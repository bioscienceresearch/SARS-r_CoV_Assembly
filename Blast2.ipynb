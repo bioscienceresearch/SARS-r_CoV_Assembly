{
 "cells": [
  {
   "cell_type": "markdown",
   "id": "valid-scale",
   "metadata": {},
   "source": [
    "## NCBI Blast an assembly against a nucleotide sequence\n",
    "\n",
    "Uses output from Megahit or SPAdes assembly as subject against fasta nucleotide query file.\n",
    "\n",
    "Automates the Blast process and then generates a consensus fasta sequence that best matches the query file.\n",
    "\n",
    "ASM_file is assembly output from Megablast/CoronaSPAdes\n",
    "\n",
    "TARGET_FILE is fasta file that want to match assembly to"
   ]
  },
  {
   "cell_type": "code",
   "execution_count": 1,
   "id": "overhead-senior",
   "metadata": {},
   "outputs": [],
   "source": [
    "import os\n",
    "import collections\n",
    "import re\n",
    "import pathlib\n",
    "from io import StringIO\n",
    "from Bio.Blast.Applications import NcbiblastnCommandline \n",
    "from Bio.Blast import NCBIXML\n",
    "from Bio.Seq import Seq\n",
    "from Bio.SeqRecord import SeqRecord\n",
    "from Bio import SeqIO\n",
    "from Bio import pairwise2  \n",
    "from Bio.pairwise2 import format_alignment \n",
    "import pandas as pd\n",
    "import numpy as np\n",
    "import matplotlib as mpl\n",
    "import matplotlib.pyplot as plt\n",
    "from matplotlib.colors import ListedColormap"
   ]
  },
  {
   "cell_type": "code",
   "execution_count": 2,
   "id": "elementary-america",
   "metadata": {},
   "outputs": [],
   "source": [
    "DATA_PATH='../../RaTG13/SRA_archives/'\n",
    "FASTA_PATH='../../fasta/'\n",
    "TARGET_FILE='MN996532_2_RaTG13_complete_genome.fa'\n",
    "ASM_file='SRR11806578.fa'\n",
    "METHOD='Megahit kstep10 nomercy'\n",
    "UID='SRR11806578_amplicons'\n",
    "COV_NAME='RaTG13'\n",
    "ASM_CODE='SRR11806578'"
   ]
  },
  {
   "cell_type": "code",
   "execution_count": 3,
   "id": "divided-lotus",
   "metadata": {},
   "outputs": [],
   "source": [
    "OUT_PATH=DATA_PATH+'blast_analysis/'\n",
    "pathlib.Path(OUT_PATH).mkdir(exist_ok=True)"
   ]
  },
  {
   "cell_type": "code",
   "execution_count": 4,
   "id": "criminal-chain",
   "metadata": {},
   "outputs": [],
   "source": [
    "query_file = os.path.join(FASTA_PATH, TARGET_FILE)\n",
    "subject_file  = os.path.join(DATA_PATH, ASM_file)"
   ]
  },
  {
   "cell_type": "code",
   "execution_count": 5,
   "id": "imported-campaign",
   "metadata": {},
   "outputs": [],
   "source": [
    "assert(os.path.exists(query_file))\n",
    "assert(os.path.exists(subject_file))"
   ]
  },
  {
   "cell_type": "markdown",
   "id": "classified-terry",
   "metadata": {},
   "source": [
    "### Blast\n",
    "\n",
    "Run BLAST and parse the output as XML\n",
    "\n",
    "Alignment properties: \n",
    "\n",
    "'accession', 'hit_def', 'hit_id', 'hsps', 'length', 'title'\n",
    "\n",
    "hsp properties: \n",
    "\n",
    "'align_length', 'bits', 'expect', 'frame', 'gaps', 'identities', 'match', \n",
    "        'num_alignments', 'positives', 'query', 'query_end', 'query_start', 'sbjct', 'sbjct_end', \n",
    "        'sbjct_start', 'score', 'strand'"
   ]
  },
  {
   "cell_type": "code",
   "execution_count": 6,
   "id": "graphic-information",
   "metadata": {},
   "outputs": [
    {
     "name": "stdout",
     "output_type": "stream",
     "text": [
      "33 sequences in assembly file ../../RaTG13/SRA_archives/SRR11806578.fa were found to match ../../fasta/MN996532_2_RaTG13_complete_genome.fa, lengths: [1100, 1100, 1092, 1100, 1100, 1095, 1100, 1100, 1100, 1100, 1100, 1006, 1025, 1009, 993, 1100, 954, 1100, 926, 881, 847, 809, 785, 783, 805, 746, 729, 700, 870, 538, 446, 752, 685] \n"
     ]
    }
   ],
   "source": [
    "output = NcbiblastnCommandline(query=query_file, subject=subject_file, outfmt=5)()[0]\n",
    "blast_result_record = NCBIXML.read(StringIO(output))\n",
    "\n",
    "seqs={}\n",
    "lengths=[]\n",
    "for i, alignment in enumerate(blast_result_record.alignments):\n",
    "    lengths.append(alignment.length)\n",
    "    for hsp in alignment.hsps:\n",
    "        seqs[i]=[hsp.query_start, hsp.query_end, alignment.title, hsp.sbjct]\n",
    "        \n",
    "print(f'{len(seqs)} sequences in assembly file {subject_file} were found to match {query_file}, lengths: {lengths} ')"
   ]
  },
  {
   "cell_type": "code",
   "execution_count": 7,
   "id": "square-worse",
   "metadata": {},
   "outputs": [],
   "source": [
    "if len(seqs)==0:\n",
    "    print('No matches found, halting workflow')\n",
    "    raise ValueError"
   ]
  },
  {
   "cell_type": "markdown",
   "id": "adjustable-seminar",
   "metadata": {},
   "source": [
    "### Create 2D array of Blast hits\n",
    "\n",
    "Create a numpy array (faster than pandas dataframe) of size required and fill rows with sequences. We use the '-' character as empty filler.\n",
    "\n",
    "Later we use this array to build final sequence from assemblies"
   ]
  },
  {
   "cell_type": "code",
   "execution_count": 8,
   "id": "greenhouse-envelope",
   "metadata": {},
   "outputs": [
    {
     "data": {
      "text/plain": [
       "SeqRecord(seq=Seq('ATTAAAGGTTTATACCTTTCCAGGTAACAAACCAACGAACTCTCGATCTCTTGT...AAA'), id='MN996532.2', name='MN996532.2', description='MN996532.2 Bat coronavirus RaTG13, complete genome', dbxrefs=[])"
      ]
     },
     "execution_count": 8,
     "metadata": {},
     "output_type": "execute_result"
    }
   ],
   "source": [
    "fasta_target = SeqIO.read(query_file, format=\"fasta\")\n",
    "fasta_target"
   ]
  },
  {
   "cell_type": "code",
   "execution_count": 9,
   "id": "ongoing-juice",
   "metadata": {},
   "outputs": [],
   "source": [
    "fasta_seq=str(fasta_target.seq)\n",
    "fasta_title=fasta_target.description"
   ]
  },
  {
   "cell_type": "markdown",
   "id": "right-evans",
   "metadata": {},
   "source": [
    "Add 1 row for target sequence"
   ]
  },
  {
   "cell_type": "code",
   "execution_count": 10,
   "id": "protective-bumper",
   "metadata": {},
   "outputs": [],
   "source": [
    "seq_array=np.tile('-', (len(seqs)+1, len(fasta_seq)))\n",
    "title_array=np.empty(len(seqs)+1, dtype='str')\n",
    "seq_array=seq_array.astype('str')"
   ]
  },
  {
   "cell_type": "code",
   "execution_count": 11,
   "id": "western-embassy",
   "metadata": {},
   "outputs": [],
   "source": [
    "assert seq_array.shape[1]==len(fasta_seq)"
   ]
  },
  {
   "cell_type": "code",
   "execution_count": 12,
   "id": "headed-colonial",
   "metadata": {},
   "outputs": [],
   "source": [
    "seq_array[0]=list(fasta_seq)"
   ]
  },
  {
   "cell_type": "code",
   "execution_count": 13,
   "id": "instant-violin",
   "metadata": {},
   "outputs": [],
   "source": [
    "title_array[0]=fasta_title\n",
    "assert seq_array.shape[0]==title_array.shape[0]"
   ]
  },
  {
   "cell_type": "code",
   "execution_count": 14,
   "id": "related-strike",
   "metadata": {},
   "outputs": [],
   "source": [
    "def problem_sequence_gen(start, end, title, subject, target_length):\n",
    "    ''' \n",
    "    Blast on some CoronaSPAdes assemblies generates anomalous outputs\n",
    "    where hsp.end-hsp.start != len(sequence)\n",
    "        Either:\n",
    "        1) start wrong\n",
    "        2) end wrong\n",
    "        3) actual sequence not fully used by blast? (where sequence too long)\n",
    "        \n",
    "    Here we assume \n",
    "        i) if sequence too long, that start and end are correct ie truncate sequence end\n",
    "        ii) if sequence too short, that start and sequence length are correct\n",
    "    '''\n",
    "\n",
    "    expected_len=end-(start-1)\n",
    "    expected_end=start+len(subject)-1\n",
    "    subject_len_diff=expected_len-len(subject)\n",
    "    #make independent copy of subject\n",
    "    subject_mod = ''.join(subject)\n",
    "    if subject_len_diff>0:\n",
    "        #expected length longer than actual, ie sequnce too short\n",
    "        SEQ_LONG=False\n",
    "        print(f'WARNING sequence too short by {abs(subject_len_diff)} characters, \\\n",
    "        assuming that start and sequence length are correct')\n",
    "    else:\n",
    "        SEQ_LONG=True\n",
    "        print(f'WARNING sequence too long by {abs(subject_len_diff)} characters, \\\n",
    "        truncating sequence end!')\n",
    "    row=['-'] * (start-1)\n",
    "    if SEQ_LONG:\n",
    "        trailer=['-'] * (target_length-end)\n",
    "        subject_mod=subject_mod[:len(subject_mod) - abs(subject_len_diff)]\n",
    "    else:\n",
    "        trailer=['-'] * (target_length-expected_end)\n",
    "    subject_chars=list(subject_mod)\n",
    "    row.extend(subject_chars)\n",
    "    row.extend(trailer)\n",
    "    if not(len(row)==target_length):\n",
    "        print(f'built row length: {len(row)}, target length: {target_length}, \\\n",
    "        start: {start}, end: {end}, subject length {len(subject)}, mod subject length: {len(subject_mod)}')\n",
    "    return row\n",
    "    "
   ]
  },
  {
   "cell_type": "code",
   "execution_count": 15,
   "id": "suffering-pittsburgh",
   "metadata": {},
   "outputs": [],
   "source": [
    "def create_sequence(start, end, title, subject, target_length):\n",
    "    if not((end-(start-1))==len(subject)):\n",
    "        return problem_sequence_gen(start, end, title, subject, target_length)\n",
    "    row=['-'] * (start-1)\n",
    "    assert end==start+len(subject)-1\n",
    "    trailer=['-'] * (target_length-end)\n",
    "    subject_chars=list(subject)\n",
    "    row.extend(subject_chars)\n",
    "    row.extend(trailer)\n",
    "    assert len(row)==target_length\n",
    "    return row"
   ]
  },
  {
   "cell_type": "code",
   "execution_count": 16,
   "id": "broken-characteristic",
   "metadata": {},
   "outputs": [
    {
     "name": "stdout",
     "output_type": "stream",
     "text": [
      "WARNING sequence too long by 2 characters,         truncating sequence end!\n",
      "WARNING sequence too long by 3 characters,         truncating sequence end!\n",
      "WARNING sequence too long by 1 characters,         truncating sequence end!\n",
      "WARNING sequence too long by 5 characters,         truncating sequence end!\n",
      "WARNING sequence too long by 1 characters,         truncating sequence end!\n",
      "WARNING sequence too long by 1 characters,         truncating sequence end!\n",
      "WARNING sequence too long by 3 characters,         truncating sequence end!\n",
      "WARNING sequence too long by 4 characters,         truncating sequence end!\n",
      "WARNING sequence too long by 1 characters,         truncating sequence end!\n",
      "WARNING sequence too long by 2 characters,         truncating sequence end!\n",
      "WARNING sequence too long by 5 characters,         truncating sequence end!\n",
      "WARNING sequence too long by 5 characters,         truncating sequence end!\n",
      "WARNING sequence too long by 3 characters,         truncating sequence end!\n",
      "WARNING sequence too long by 2 characters,         truncating sequence end!\n",
      "WARNING sequence too long by 1 characters,         truncating sequence end!\n",
      "WARNING sequence too long by 1 characters,         truncating sequence end!\n",
      "WARNING sequence too long by 2 characters,         truncating sequence end!\n"
     ]
    }
   ],
   "source": [
    "seq_rows=[]\n",
    "lengths=[]\n",
    "for k,v in seqs.items():\n",
    "    #v indexes represent: start, end, title, subject\n",
    "    row=create_sequence(v[0], v[1], v[2], v[3], len(fasta_seq))\n",
    "    lengths.append(len(v[3]))\n",
    "    seq_rows.append(row)"
   ]
  },
  {
   "cell_type": "code",
   "execution_count": 17,
   "id": "completed-tourism",
   "metadata": {},
   "outputs": [],
   "source": [
    "length_sorted=[x for _,x in sorted(zip(lengths,seq_rows), reverse=True)]\n",
    "titles_sorted=[x for x in length_sorted[2]]"
   ]
  },
  {
   "cell_type": "markdown",
   "id": "adolescent-substitute",
   "metadata": {},
   "source": [
    "Replace empty values in numpy arry - sorted by length of sequence, row 0 being the target sequence\n",
    "titles are stored in a separate array"
   ]
  },
  {
   "cell_type": "code",
   "execution_count": 18,
   "id": "continent-voice",
   "metadata": {},
   "outputs": [],
   "source": [
    "i=0\n",
    "for l,t in zip(length_sorted,titles_sorted):\n",
    "    seq_array[i+1]=l\n",
    "    title_array[i+1]=t\n",
    "    i+=1"
   ]
  },
  {
   "cell_type": "code",
   "execution_count": 19,
   "id": "veterinary-agency",
   "metadata": {
    "scrolled": true
   },
   "outputs": [
    {
     "data": {
      "text/plain": [
       "array(['A', 'T', 'T', ..., 'A', 'A', 'A'], dtype='<U1')"
      ]
     },
     "execution_count": 19,
     "metadata": {},
     "output_type": "execute_result"
    }
   ],
   "source": [
    "#check or target sequence looks OK\n",
    "seq_array[0]"
   ]
  },
  {
   "cell_type": "markdown",
   "id": "sweet-organic",
   "metadata": {},
   "source": [
    "### Check against target\n",
    "\n",
    "The target sequence (here the RaTG13 fasta accession MN996532.2) is in row zero of seq_array as per above. The other rows are each of the Blast hits.\n"
   ]
  },
  {
   "cell_type": "code",
   "execution_count": 20,
   "id": "broke-reproduction",
   "metadata": {},
   "outputs": [],
   "source": [
    "#keep all but target in row 0\n",
    "nn_only = seq_array[1:]\n",
    "target=seq_array[0]\n",
    "equal_checks=np.empty([nn_only.shape[0], nn_only.shape[1]])\n",
    "for i in range(np.shape(nn_only)[0]):\n",
    "    #get row\n",
    "    seq_cmp=nn_only[i]\n",
    "    equal_check = seq_cmp == target\n",
    "    equal_check = equal_check.astype(int)\n",
    "    mask = np.isin(seq_cmp, ['-'])\n",
    "    #set empty (true) to be 2 temporarily\n",
    "    equal_check[mask]=2\n",
    "    equal_checks[i]=equal_check"
   ]
  },
  {
   "cell_type": "markdown",
   "id": "deluxe-clark",
   "metadata": {},
   "source": [
    "Swap 2 ('-' ie empty) to be 0 - makes more sense as a zero"
   ]
  },
  {
   "cell_type": "code",
   "execution_count": 21,
   "id": "combined-translator",
   "metadata": {},
   "outputs": [],
   "source": [
    "equal_checks[equal_checks == 0] = 3\n",
    "equal_checks[equal_checks == 2] = 0\n",
    "equal_checks[equal_checks == 3] = 2\n",
    "\n",
    "assert (np.count_nonzero(equal_checks == 3))==0"
   ]
  },
  {
   "cell_type": "code",
   "execution_count": 22,
   "id": "frank-botswana",
   "metadata": {},
   "outputs": [],
   "source": [
    "def plot_blocked_seq(stack_arr, name='sequences_blocked.png', cmap='CMRmap_r'):\n",
    "    print(f'>>plot_blocked_seq, stack_arr: {stack_arr.shape}')\n",
    "    fig= plt.figure(figsize=(20,6))\n",
    "    plt.imshow(stack_arr, cmap=plt.get_cmap(cmap))\n",
    "    ax = plt.gca()\n",
    "    ax.axes.yaxis.set_visible(False)\n",
    "    plt.savefig(name, dpi=600)\n",
    "    plt.show()"
   ]
  },
  {
   "cell_type": "markdown",
   "id": "structural-economics",
   "metadata": {},
   "source": [
    "### Merge into single sequence\n",
    "\n",
    "Here we create a single consensus fasta file based on a combination of the Blast hits.\n",
    "\n",
    "Method:\n",
    "\n",
    "Where only single seuence has coverage - use that\n",
    "\n",
    "Where 2 or more sequences cover same NN - if NN same, use that, if NN's differ and more of 1 then other use that, if differ and equal number, then use the one that matches the target"
   ]
  },
  {
   "cell_type": "code",
   "execution_count": 67,
   "id": "unable-collins",
   "metadata": {},
   "outputs": [],
   "source": [
    "def choose_most_freq(frequency, e_idx_val, unique, asm_build):\n",
    "    '''if not equal fequency then get the most common\n",
    "    remove empty character (ie e_idx_val) from comparison'''\n",
    "    temp_freq=frequency.copy().tolist()\n",
    "    del temp_freq[e_idx_val] \n",
    "    temp_freq=temp_freq\n",
    "    max_freq = np.where(temp_freq == np.amax(temp_freq)) \n",
    "    asm_build.append(unique[max_freq][0])  \n",
    "    return asm_build"
   ]
  },
  {
   "cell_type": "code",
   "execution_count": 68,
   "id": "pleased-script",
   "metadata": {},
   "outputs": [],
   "source": [
    "nn_only = seq_array[1:]\n",
    "asm_build=[]\n",
    "col_idx=0\n",
    "for column in nn_only.T:\n",
    "    unique, frequency = np.unique(column,  \n",
    "                              return_counts = True) \n",
    "    if len(unique)==1:\n",
    "        assert frequency==nn_only.shape[0]\n",
    "        asm_build.append(unique[0])\n",
    "    elif len(unique)==2:\n",
    "        if '-' in unique:\n",
    "            #highly unlikely this wont be case for this dataset\n",
    "            not_empty = [x for x in unique if x != '-']\n",
    "            asm_build.append(not_empty[0])\n",
    "        else:\n",
    "            if frequency[0]==frequency[1]:\n",
    "                #give benefit of doubt\n",
    "                if unique[0]==seq_array[0][col_idx]:\n",
    "                    asm_build.append(unique[0])\n",
    "                else:\n",
    "                    asm_build.append(unique[1])\n",
    "            else:\n",
    "                #if not equal fequency then get the most common\n",
    "                max_freq = numpy.where(frequency == numpy.amax(frequency)) \n",
    "                asm_build.append(unique[max_freq])\n",
    "    elif len(unique)==3:\n",
    "        if '-' in unique:\n",
    "            not_empty = [x for x in unique if x != '-']\n",
    "            temp_idxs=list(range(3))\n",
    "            \n",
    "            empty_idx = np.where(unique == '-')\n",
    "            e_idx_val=empty_idx[0][0]\n",
    "            del temp_idxs[e_idx_val] \n",
    "            \n",
    "            if frequency[temp_idxs[0]]==frequency[temp_idxs[1]]:\n",
    "                #give benefit of doubt\n",
    "                if unique[temp_idxs[0]]==seq_array[0][col_idx]:\n",
    "                    asm_build.append(unique[temp_idxs[0]])\n",
    "                else:\n",
    "                    asm_build.append(unique[temp_idxs[1]])\n",
    "            else:\n",
    "                asm_build=choose_most_freq(frequency, e_idx_val, unique, asm_build)\n",
    "        else:\n",
    "            max_freq = numpy.where(frequency == numpy.amax(frequency)) \n",
    "            asm_build.append(unique[max_freq])\n",
    "    elif len(unique)>3:\n",
    "        if '-' in unique:\n",
    "            not_empty = [x for x in unique if x != '-']\n",
    "            temp_idxs=list(range(len(unique)))\n",
    "            \n",
    "            empty_idx = np.where(unique == '-')\n",
    "            e_idx_val=empty_idx[0][0]\n",
    "\n",
    "            asm_build=choose_most_freq(frequency, e_idx_val, unique, asm_build)\n",
    "        else:\n",
    "            max_freq = numpy.where(frequency == numpy.amax(frequency)) \n",
    "            asm_build.append(unique[max_freq])\n",
    "    col_idx+=1"
   ]
  },
  {
   "cell_type": "code",
   "execution_count": 69,
   "id": "broadband-captain",
   "metadata": {},
   "outputs": [],
   "source": [
    "assert len(asm_build)==len(fasta_seq)\n",
    "assert all(isinstance(x, str) for x in asm_build)"
   ]
  },
  {
   "cell_type": "markdown",
   "id": "theoretical-anger",
   "metadata": {},
   "source": [
    "### Plot consensus sequence"
   ]
  },
  {
   "cell_type": "code",
   "execution_count": 70,
   "id": "mediterranean-latvia",
   "metadata": {},
   "outputs": [],
   "source": [
    "def ord_convert(x):\n",
    "    '''convert each character in array to its integer representation'''\n",
    "    return ord(x)\n",
    "ord_v = np.vectorize(ord_convert)"
   ]
  },
  {
   "cell_type": "markdown",
   "id": "adopted-philosophy",
   "metadata": {},
   "source": [
    "Convert to integers to plot"
   ]
  },
  {
   "cell_type": "code",
   "execution_count": 95,
   "id": "interested-kitty",
   "metadata": {},
   "outputs": [
    {
     "data": {
      "text/plain": [
       "(array([13990.,     0.,  3063.,     0.,     0.,  5007.,     0.,  2920.,\n",
       "            0.,  4875.]),\n",
       " array([0. , 0.4, 0.8, 1.2, 1.6, 2. , 2.4, 2.8, 3.2, 3.6, 4. ]),\n",
       " <BarContainer object of 10 artists>)"
      ]
     },
     "execution_count": 95,
     "metadata": {},
     "output_type": "execute_result"
    },
    {
     "data": {
      "image/png": "[encoded data removed]",
      "text/plain": [
       "<Figure size 432x288 with 1 Axes>"
      ]
     },
     "metadata": {
      "needs_background": "light"
     },
     "output_type": "display_data"
    }
   ],
   "source": [
    "plt.hist(asm_build)"
   ]
  },
  {
   "cell_type": "code",
   "execution_count": 106,
   "id": "faced-school",
   "metadata": {},
   "outputs": [
    {
     "name": "stdout",
     "output_type": "stream",
     "text": [
      "['T', '-', 'A', 'A', '-', '-', 'C', '-', 'A', 'A', 'C', '-', 'A', 'A', 'G', '-', '-', 'A', '-', 'C', 'G', '-', '-', 'A', 'A', '-', 'A', 'A', 'C', 'C', '-', 'A', '-', 'A', '-', 'A', 'A', 'A', '-', '-', 'A', '-', 'C', '-', 'G', 'G', 'T', 'T', 'T', 'C', 'C', '-', 'A', 'T', 'T', '-', 'A', 'A', '-', 'A', 'A', 'A', '-', '-', 'G', 'G', 'T', '-', 'A', 'A', 'G', 'C', 'T', 'A', 'G', 'A', 'C', 'T', 'C', 'T', 'A', 'T', 'T', 'A', 'C', 'G', 'A', 'T', 'T', 'C', 'A', 'A', 'T', 'G', 'A', 'G', 'T', 'T', 'A', 'C']\n"
     ]
    }
   ],
   "source": [
    "print(asm_build[14900:15000])"
   ]
  },
  {
   "cell_type": "code",
   "execution_count": 72,
   "id": "removable-district",
   "metadata": {},
   "outputs": [],
   "source": [
    "data_ord=ord_v(asm_build)\n",
    "#replace '-' (empty), with 0 - easier to manage colourmaps\n",
    "data_ord[data_ord == 45] = 0"
   ]
  },
  {
   "cell_type": "code",
   "execution_count": 73,
   "id": "optimum-ukraine",
   "metadata": {},
   "outputs": [],
   "source": [
    "#convert to 2D so can plot\n",
    "stacked=np.stack([data_ord, data_ord], axis=0)"
   ]
  },
  {
   "cell_type": "markdown",
   "id": "celtic-endorsement",
   "metadata": {},
   "source": [
    "- Dark blue: Continuous coverage by GTCA nucleotides\n",
    "- Red: Poor coverage, many empty reads\n",
    "- Yellow: Very poor coverage\n",
    "- White: No reads"
   ]
  },
  {
   "cell_type": "code",
   "execution_count": 74,
   "id": "union-mortality",
   "metadata": {
    "scrolled": true
   },
   "outputs": [
    {
     "name": "stdout",
     "output_type": "stream",
     "text": [
      ">>plot_blocked_seq, stack_arr: (1000, 29855)\n"
     ]
    },
    {
     "data": {
      "image/png": "[encoded data removed]",
      "text/plain": [
       "<Figure size 1440x432 with 1 Axes>"
      ]
     },
     "metadata": {
      "needs_background": "light"
     },
     "output_type": "display_data"
    }
   ],
   "source": [
    "stacked_repeated = np.repeat(stacked, repeats=500, axis=0)\n",
    "plot_blocked_seq(stacked_repeated, name=OUT_PATH+f'asm_stitched_{UID}.png')"
   ]
  },
  {
   "cell_type": "code",
   "execution_count": 75,
   "id": "pharmaceutical-monte",
   "metadata": {},
   "outputs": [],
   "source": [
    "target=seq_array[0]\n",
    "\n",
    "asm_check = asm_build == target\n",
    "asm_check = asm_check.astype(int)\n",
    "mask = np.isin(asm_build, ['-'])\n",
    "#set empty (true) to be 2 temporarily\n",
    "asm_check[mask]=2\n",
    "asm_check[asm_check == 0] = 3\n",
    "asm_check[asm_check == 2] = 0\n",
    "asm_check[asm_check == 3] = 2\n",
    "#0: empty; 1: NN match, 2: NN incorrect (based on consensus id more than 1)\n"
   ]
  },
  {
   "cell_type": "code",
   "execution_count": 76,
   "id": "important-visibility",
   "metadata": {},
   "outputs": [
    {
     "name": "stdout",
     "output_type": "stream",
     "text": [
      "unique: [0 1 2], frequency: [13990 13643  2222]\n"
     ]
    }
   ],
   "source": [
    "unique, frequency = np.unique(asm_check,  \n",
    "                              return_counts = True) \n",
    "print(f'unique: {unique}, frequency: {frequency}')"
   ]
  },
  {
   "cell_type": "code",
   "execution_count": 77,
   "id": "industrial-heavy",
   "metadata": {},
   "outputs": [],
   "source": [
    "def export_fasta(out_file_path, sequence, id_text, description):\n",
    "    if isinstance(sequence, list):\n",
    "        sequence = ''.join(sequence)\n",
    "    seq=Seq(sequence)\n",
    "    record=SeqRecord(seq, id=id_text, description=description)\n",
    "    with open(out_file_path, \"w\") as output_handle:\n",
    "        SeqIO.write(record, output_handle, \"fasta\")"
   ]
  },
  {
   "cell_type": "code",
   "execution_count": 78,
   "id": "patent-spell",
   "metadata": {},
   "outputs": [],
   "source": [
    "export_fasta(OUT_PATH+f'{COV_NAME}_{ASM_CODE}_{UID}.fa', asm_build, f'{COV_NAME}_{ASM_CODE}_{UID}', METHOD)"
   ]
  },
  {
   "cell_type": "markdown",
   "id": "historical-moment",
   "metadata": {},
   "source": [
    "### Stats"
   ]
  },
  {
   "cell_type": "code",
   "execution_count": 79,
   "id": "hidden-subscriber",
   "metadata": {},
   "outputs": [],
   "source": [
    "correct_seq=f'Percentage of full sequence with correct sequence coverage: {(frequency[1]/len(fasta_seq))*100}%'"
   ]
  },
  {
   "cell_type": "markdown",
   "id": "insured-house",
   "metadata": {},
   "source": [
    "greater than 1 where segments overlp"
   ]
  },
  {
   "cell_type": "code",
   "execution_count": 80,
   "id": "generous-commission",
   "metadata": {},
   "outputs": [],
   "source": [
    "correct_overlap=f'Percentage of full sequence with correct overlapping sequences: {(frequency[2]/len(fasta_seq))*100}%'"
   ]
  },
  {
   "cell_type": "code",
   "execution_count": 81,
   "id": "stable-gnome",
   "metadata": {},
   "outputs": [],
   "source": [
    "missing=f'Percentage missing: {(frequency[0]/len(fasta_seq))*100}%'"
   ]
  },
  {
   "cell_type": "code",
   "execution_count": 82,
   "id": "equivalent-trademark",
   "metadata": {},
   "outputs": [
    {
     "name": "stdout",
     "output_type": "stream",
     "text": [
      "Percentage of full sequence with correct sequence coverage: 45.69753810082064%\n",
      "Percentage of full sequence with correct overlapping sequences: 7.442639423882097%\n",
      "Percentage missing: 46.85982247529727%\n"
     ]
    }
   ],
   "source": [
    "print(correct_seq)\n",
    "print(correct_overlap)\n",
    "print(missing)"
   ]
  },
  {
   "cell_type": "code",
   "execution_count": 83,
   "id": "handy-lincoln",
   "metadata": {},
   "outputs": [],
   "source": [
    "with open(OUT_PATH+f\"{COV_NAME}_{ASM_CODE}_{UID}_stats.txt\", \"w\") as text_file:\n",
    "    text_file.write(correct_seq +'\\n')\n",
    "    text_file.write(correct_overlap +'\\n')\n",
    "    text_file.write(missing +'\\n')"
   ]
  },
  {
   "cell_type": "markdown",
   "id": "forward-surfing",
   "metadata": {},
   "source": [
    "### Plot Blast Hits"
   ]
  },
  {
   "cell_type": "markdown",
   "id": "faced-panama",
   "metadata": {},
   "source": [
    "Top row: consensus sequence, white- no coverage\n",
    "\n",
    "Second row: spacer\n",
    "\n",
    "Each row below show each contig from Blast"
   ]
  },
  {
   "cell_type": "code",
   "execution_count": 84,
   "id": "narrow-sponsorship",
   "metadata": {},
   "outputs": [
    {
     "data": {
      "text/plain": [
       "(33, 29855)"
      ]
     },
     "execution_count": 84,
     "metadata": {},
     "output_type": "execute_result"
    }
   ],
   "source": [
    "equal_checks.shape"
   ]
  },
  {
   "cell_type": "code",
   "execution_count": 85,
   "id": "cross-madness",
   "metadata": {},
   "outputs": [],
   "source": [
    "bin_stacked_repeated = np.repeat(stacked, repeats=250, axis=0)\n",
    "bin_stacked_repeated[bin_stacked_repeated > 0] = 1\n",
    "\n",
    "#add a gap\n",
    "bin_zero_repeated = np.repeat(stacked, repeats=250, axis=0)\n",
    "bin_zero_repeated[bin_stacked_repeated > 0] = 0\n",
    "stacked_header=np.stack([bin_stacked_repeated, bin_zero_repeated], axis=0)"
   ]
  },
  {
   "cell_type": "code",
   "execution_count": 86,
   "id": "strategic-andrew",
   "metadata": {},
   "outputs": [],
   "source": [
    "stacked_header=stacked_header.reshape((bin_stacked_repeated.shape[0]+bin_zero_repeated.shape[0], bin_zero_repeated.shape[1]))"
   ]
  },
  {
   "cell_type": "code",
   "execution_count": 87,
   "id": "likely-karaoke",
   "metadata": {},
   "outputs": [],
   "source": [
    "equal_repeated = np.repeat(equal_checks, repeats=500, axis=0)\n",
    "stack_arr=np.concatenate((stacked_header,equal_repeated), axis=0)"
   ]
  },
  {
   "cell_type": "code",
   "execution_count": 88,
   "id": "anonymous-bennett",
   "metadata": {},
   "outputs": [
    {
     "name": "stdout",
     "output_type": "stream",
     "text": [
      ">>plot_blocked_seq, stack_arr: (17500, 29855)\n"
     ]
    },
    {
     "data": {
      "image/png": "[encoded data removed]",
      "text/plain": [
       "<Figure size 1440x432 with 1 Axes>"
      ]
     },
     "metadata": {
      "needs_background": "light"
     },
     "output_type": "display_data"
    }
   ],
   "source": [
    "plot_blocked_seq(stack_arr, name=OUT_PATH+f'equal_repeated_{UID}.png', cmap='gray_r')"
   ]
  },
  {
   "cell_type": "markdown",
   "id": "empirical-distributor",
   "metadata": {},
   "source": [
    "### Misc Plotting\n",
    "\n",
    "The plot blow is experimental and was not used for any analysis. \n",
    "\n",
    "Note, different to plots above, the first row in plot here shows the target sequence not consensus sequence. "
   ]
  },
  {
   "cell_type": "code",
   "execution_count": 89,
   "id": "legal-basketball",
   "metadata": {},
   "outputs": [],
   "source": [
    "nn_unique=np.unique(seq_array)\n",
    "ord_unique=np.unique(ord_v(seq_array))\n",
    "unique_codes = dict(zip(list(range(len(ord_unique))), ord_unique))"
   ]
  },
  {
   "cell_type": "code",
   "execution_count": 90,
   "id": "renewable-advertiser",
   "metadata": {},
   "outputs": [],
   "source": [
    "def replce_npy(a, val_list, replace_with):\n",
    "    for v,r in zip(val_list, replace_with):\n",
    "        [[_el if _el == v else r for _el in _ar] for _ar in a]"
   ]
  },
  {
   "cell_type": "code",
   "execution_count": 91,
   "id": "checked-computer",
   "metadata": {},
   "outputs": [],
   "source": [
    "def get_plot_data(seq_array, unique_codes, labels):\n",
    "    data_ord=ord_v(seq_array)\n",
    "    unique, frequency = np.unique(seq_array,  \n",
    "                              return_counts = True) \n",
    "    print(f'Unique Nucleotides: {unique}, frequency: {frequency}')\n",
    "    for n,o in zip(nn_unique, ord_unique):\n",
    "        #use the unique NN code (order unknown) as loopup in the colourbar list\n",
    "        idx=np.where(labels == n.upper())\n",
    "        #key = next(key for key, value in dd.items() if value == v)\n",
    "        data_ord=np.where(data_ord==o, idx, data_ord)\n",
    "    #repeat to expand y axis \n",
    "    data_repeated = np.repeat(data_ord, repeats=500, axis=0)\n",
    "    return data_repeated"
   ]
  },
  {
   "cell_type": "code",
   "execution_count": 92,
   "id": "executive-elizabeth",
   "metadata": {},
   "outputs": [],
   "source": [
    "def plot_nn_colourbars():\n",
    "    #after https://stackoverflow.com/questions/14777066/matplotlib-discrete-colorbar\n",
    "\n",
    "    col_dict={0:\"white\",\n",
    "              1:\"blue\",\n",
    "              2:\"yellow\",\n",
    "              3:\"red\",\n",
    "              4:\"green\",\n",
    "              5:\"magenta\",\n",
    "              6:\"black\",\n",
    "              7:\"tan\",\n",
    "              8:\"darkgreen\",\n",
    "              9:\"lavender\",\n",
    "              10:\"lightcoral\",\n",
    "              11:\"aquamarine\",\n",
    "              12:\"lightcyan\",\n",
    "              13:\"orchid\",\n",
    "              14:\"coral\",\n",
    "              15:\"olive\",\n",
    "              16:\"lightblue\"\n",
    "             }\n",
    "\n",
    "    # create a colormap from our list of colors\n",
    "    cm = ListedColormap([col_dict[x] for x in col_dict.keys()])\n",
    "\n",
    "    #in order of here: https://www.genome.jp/kegg/catalog/codes1.html\n",
    "    labels = np.array([\"-\",\"A\",\"G\",\"C\",\"T\",\"U\",\"R\",\"Y\",\"N\",\"W\", \"S\",\"M\",\"K\",\"B\",\"H\",\"D\",\"V\"])\n",
    "    len_lab = len(labels)\n",
    "\n",
    "    # prepare normalizer\n",
    "    norm_bins = np.sort([*col_dict.keys()]) + 0.5\n",
    "    norm_bins = np.insert(norm_bins, 0, np.min(norm_bins) - 1.0)\n",
    "\n",
    "    norm = mpl.colors.BoundaryNorm(norm_bins, len_lab, clip=True)\n",
    "    fmt = mpl.ticker.FuncFormatter(lambda x, pos: labels[norm(x)])\n",
    "\n",
    "    data_repeated=get_plot_data(seq_array, unique_codes, labels)\n",
    "\n",
    "    #plt.matshow(data_repeated, cmap=cm, norm=norm)\n",
    "\n",
    "    fig,ax = plt.subplots(figsize=(20, 10))\n",
    "    \n",
    "    im = ax.imshow(data_repeated, cmap=cm, norm=norm)\n",
    "\n",
    "    ax.axes.yaxis.set_visible(False)\n",
    "    diff = norm_bins[1:] - norm_bins[:-1]\n",
    "    tickz = norm_bins[:-1] + diff / 2\n",
    "    cb = fig.colorbar(im, format=fmt, ticks=tickz)\n",
    "    ax.axes.yaxis.set_visible(False)\n",
    "    plt.title(f'Target: {TARGET_FILE} (top row) vs contigs using {METHOD}', fontsize=12)\n",
    "    fig.savefig(OUT_PATH+f\"colour_sequence_map_{UID}.png\")\n",
    "    plt.show()"
   ]
  },
  {
   "cell_type": "code",
   "execution_count": 93,
   "id": "challenging-hotel",
   "metadata": {},
   "outputs": [
    {
     "name": "stdout",
     "output_type": "stream",
     "text": [
      "Unique Nucleotides: ['-' 'A' 'C' 'G' 'T'], frequency: [955846  17659  10918  11554  19093]\n"
     ]
    },
    {
     "data": {
      "image/png": "[encoded data removed]",
      "text/plain": [
       "<Figure size 1440x720 with 2 Axes>"
      ]
     },
     "metadata": {
      "needs_background": "light"
     },
     "output_type": "display_data"
    }
   ],
   "source": [
    "#TODO, use bokeh for revised version so can zoom and explore\n",
    "plot_nn_colourbars()"
   ]
  },
  {
   "cell_type": "code",
   "execution_count": 94,
   "id": "married-annotation",
   "metadata": {},
   "outputs": [
    {
     "data": {
      "text/plain": [
       "(array([8922.,    0.,    0., 9579.,    0.,    0., 5847.,    0.,    0.,\n",
       "        5507.]),\n",
       " array([0. , 0.3, 0.6, 0.9, 1.2, 1.5, 1.8, 2.1, 2.4, 2.7, 3. ]),\n",
       " <BarContainer object of 10 artists>)"
      ]
     },
     "execution_count": 94,
     "metadata": {},
     "output_type": "execute_result"
    },
    {
     "data": {
      "image/png": "[encoded data removed]",
      "text/plain": [
       "<Figure size 432x288 with 1 Axes>"
      ]
     },
     "metadata": {
      "needs_background": "light"
     },
     "output_type": "display_data"
    }
   ],
   "source": [
    "#odd that plot above looks like mostly G & C - needs testing\n",
    "plt.hist(seq_array[0])"
   ]
  },
  {
   "cell_type": "code",
   "execution_count": null,
   "id": "banner-teaching",
   "metadata": {},
   "outputs": [],
   "source": []
  }
 ],
 "metadata": {
  "kernelspec": {
   "display_name": "Python 3",
   "language": "python",
   "name": "python3"
  },
  "language_info": {
   "codemirror_mode": {
    "name": "ipython",
    "version": 3
   },
   "file_extension": ".py",
   "mimetype": "text/x-python",
   "name": "python",
   "nbconvert_exporter": "python",
   "pygments_lexer": "ipython3",
   "version": "3.6.12"
  }
 },
 "nbformat": 4,
 "nbformat_minor": 5
}
