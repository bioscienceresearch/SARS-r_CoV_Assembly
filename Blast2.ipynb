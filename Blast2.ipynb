{
 "cells": [
  {
   "cell_type": "markdown",
   "id": "valid-scale",
   "metadata": {},
   "source": [
    "## NCBI Blast an assembly against a nucleotide sequence\n",
    "\n",
    "This notebook uses output from Megahit or SPAdes assembly and runs Blastn against fasta nucleotide target sequence. It automates the Blast process and then generates a consensus fasta sequence that best matches the query file.\n",
    "\n",
    "In example below we run on the result of Megahit assemby on SRR11085797 (https://trace.ncbi.nlm.nih.gov/Traces/sra/?run=SRR11085797) \n",
    "\n",
    "Our workflow for RaTG13 de-novo anlysis consisted of running this notebook on each of:\n",
    "\n",
    "- final.contigs.fa MEGAHIT reults using default settings for NCBI accession SRR11085797\n",
    "- final.contigs.fa MEGAHIT reults using max Kmer of K79 for NCBI accession SRR11085797\n",
    "- final.contigs.fa MEGAHIT reults using k-step10 and --no-mercy option for NCBI accession SRR11085797\n",
    "- gene_clusters.fasta CoronaSPAdes results using default settings for NCBI accession SRR11085797\n",
    "- SRR11806578.fa generated using Biopython from SRR11806578.fastq, sourced from NCBI accession SRR11085797\n",
    "\n",
    "The consensus fasta files generated from each were then used in the [Fasta_Gap_Comparison.ipynb](files/Fasta_Gap_Comparison.ipynb) notebook to compare overall coverage of the RaTG13 genome"
   ]
  },
  {
   "cell_type": "code",
   "execution_count": 1,
   "id": "overhead-senior",
   "metadata": {},
   "outputs": [],
   "source": [
    "import os\n",
    "import collections\n",
    "import re\n",
    "import pathlib\n",
    "from io import StringIO\n",
    "from Bio.Blast.Applications import NcbiblastnCommandline \n",
    "from Bio.Blast import NCBIXML\n",
    "from Bio.Seq import Seq\n",
    "from Bio.SeqRecord import SeqRecord\n",
    "from Bio import SeqIO\n",
    "from Bio import pairwise2  \n",
    "from Bio.pairwise2 import format_alignment \n",
    "import pandas as pd\n",
    "import numpy as np\n",
    "import matplotlib as mpl\n",
    "import matplotlib.pyplot as plt\n",
    "from matplotlib.colors import ListedColormap"
   ]
  },
  {
   "cell_type": "code",
   "execution_count": 2,
   "id": "elementary-america",
   "metadata": {},
   "outputs": [],
   "source": [
    "#DATA_PATH='../../RaTG13/Sars_SL3.megahit_asm/'\n",
    "DATA_PATH='../../RaTG13/Sars_SL3.megahit_asm/intermediate_contigs/'\n",
    "FASTA_PATH='../../fasta/'\n",
    "\n",
    "#TARGET_FILE is fasta file that want to match assembly to\n",
    "TARGET_FILE='MN996532_2_RaTG13_complete_genome.fa'\n",
    "\n",
    "#ASM_file is assembly output from Megablast/CoronaSPAdes\n",
    "ASM_FILE='k29.contigs.fa'\n",
    "METHOD='Megahit default'\n",
    "COV_NAME='RaTG13'\n",
    "ASM_CODE='SL3'\n",
    "UID='mega_defaults_intermediates'"
   ]
  },
  {
   "cell_type": "code",
   "execution_count": 3,
   "id": "divided-lotus",
   "metadata": {},
   "outputs": [],
   "source": [
    "OUT_PATH=DATA_PATH+'blast_analysis/'\n",
    "pathlib.Path(OUT_PATH).mkdir(exist_ok=True)"
   ]
  },
  {
   "cell_type": "code",
   "execution_count": 4,
   "id": "criminal-chain",
   "metadata": {},
   "outputs": [],
   "source": [
    "query_file = os.path.join(FASTA_PATH, TARGET_FILE)\n",
    "subject_file  = os.path.join(DATA_PATH, ASM_FILE)"
   ]
  },
  {
   "cell_type": "code",
   "execution_count": 5,
   "id": "imported-campaign",
   "metadata": {},
   "outputs": [],
   "source": [
    "assert(os.path.exists(query_file))\n",
    "assert(os.path.exists(subject_file))"
   ]
  },
  {
   "cell_type": "markdown",
   "id": "classified-terry",
   "metadata": {},
   "source": [
    "### Blast\n",
    "\n",
    "Run BLAST and parse the output as XML\n",
    "\n",
    "Alignment properties: \n",
    "\n",
    "'accession', 'hit_def', 'hit_id', 'hsps', 'length', 'title'\n",
    "\n",
    "hsp properties: \n",
    "\n",
    "'align_length', 'bits', 'expect', 'frame', 'gaps', 'identities', 'match', \n",
    "        'num_alignments', 'positives', 'query', 'query_end', 'query_start', 'sbjct', 'sbjct_end', \n",
    "        'sbjct_start', 'score', 'strand'"
   ]
  },
  {
   "cell_type": "code",
   "execution_count": 6,
   "id": "graphic-information",
   "metadata": {},
   "outputs": [],
   "source": [
    "def blast_asm(query_file, subject_file, print_summary=False):\n",
    "    seqs=[]\n",
    "    lengths=[]\n",
    "    try:\n",
    "        output = NcbiblastnCommandline(query=query_file, subject=subject_file, outfmt=5)()[0]\n",
    "        blast_result_record = NCBIXML.read(StringIO(output))\n",
    "\n",
    "\n",
    "        for i, alignment in enumerate(blast_result_record.alignments):\n",
    "            lengths.append(alignment.length)\n",
    "            for hsp in alignment.hsps:\n",
    "                seqs.append([hsp.query_start, hsp.query_end, alignment.title, hsp.sbjct])\n",
    "        if print_summary:\n",
    "            print(f'{subject_file}, {len(seqs)} Blast hits to {query_file}, lengths: {lengths} ')\n",
    "    except Exception as e:\n",
    "        print(e)\n",
    "    return seqs"
   ]
  },
  {
   "cell_type": "code",
   "execution_count": 7,
   "id": "stupid-system",
   "metadata": {},
   "outputs": [
    {
     "name": "stdout",
     "output_type": "stream",
     "text": [
      "../../RaTG13/Sars_SL3.megahit_asm/intermediate_contigs/k29.contigs.fa, 25 Blast hits to ../../fasta/MN996532_2_RaTG13_complete_genome.fa, lengths: [5345, 4591, 3351, 2083, 1753, 1706, 1447, 1168, 989, 936, 780, 645, 575, 537, 499, 425, 425, 334, 277, 228, 198, 170, 112, 112] \n"
     ]
    }
   ],
   "source": [
    "seqs=blast_asm(query_file, subject_file, print_summary=True)"
   ]
  },
  {
   "cell_type": "code",
   "execution_count": 8,
   "id": "square-worse",
   "metadata": {},
   "outputs": [],
   "source": [
    "if len(seqs)==0:\n",
    "    print('No matches found, halting workflow')\n",
    "    raise ValueError"
   ]
  },
  {
   "cell_type": "markdown",
   "id": "adjustable-seminar",
   "metadata": {},
   "source": [
    "### Create 2D array of Blast hits\n",
    "\n",
    "Create a numpy array (faster than pandas dataframe) of size required and fill rows with sequences. We use the '-' character as empty filler.\n",
    "\n",
    "Later we use this array to build final sequence from assemblies"
   ]
  },
  {
   "cell_type": "code",
   "execution_count": 9,
   "id": "greenhouse-envelope",
   "metadata": {},
   "outputs": [
    {
     "data": {
      "text/plain": [
       "SeqRecord(seq=Seq('ATTAAAGGTTTATACCTTTCCAGGTAACAAACCAACGAACTCTCGATCTCTTGT...AAA'), id='MN996532.2', name='MN996532.2', description='MN996532.2 Bat coronavirus RaTG13, complete genome', dbxrefs=[])"
      ]
     },
     "execution_count": 9,
     "metadata": {},
     "output_type": "execute_result"
    }
   ],
   "source": [
    "fasta_target = SeqIO.read(query_file, format=\"fasta\")\n",
    "fasta_target"
   ]
  },
  {
   "cell_type": "code",
   "execution_count": 10,
   "id": "ongoing-juice",
   "metadata": {},
   "outputs": [],
   "source": [
    "fasta_seq=str(fasta_target.seq)\n",
    "fasta_title=fasta_target.description"
   ]
  },
  {
   "cell_type": "markdown",
   "id": "right-evans",
   "metadata": {},
   "source": [
    "Add 1 row for target sequence"
   ]
  },
  {
   "cell_type": "code",
   "execution_count": 11,
   "id": "protective-bumper",
   "metadata": {},
   "outputs": [],
   "source": [
    "seq_array=np.tile('-', (len(seqs)+1, len(fasta_seq)))\n",
    "title_array=np.empty(len(seqs)+1, dtype='str')\n",
    "seq_array=seq_array.astype('str')"
   ]
  },
  {
   "cell_type": "code",
   "execution_count": 12,
   "id": "western-embassy",
   "metadata": {},
   "outputs": [],
   "source": [
    "assert seq_array.shape[1]==len(fasta_seq)"
   ]
  },
  {
   "cell_type": "code",
   "execution_count": 13,
   "id": "headed-colonial",
   "metadata": {},
   "outputs": [],
   "source": [
    "seq_array[0]=list(fasta_seq)"
   ]
  },
  {
   "cell_type": "code",
   "execution_count": 14,
   "id": "instant-violin",
   "metadata": {},
   "outputs": [],
   "source": [
    "title_array[0]=fasta_title\n",
    "assert seq_array.shape[0]==title_array.shape[0]"
   ]
  },
  {
   "cell_type": "code",
   "execution_count": 15,
   "id": "present-behavior",
   "metadata": {},
   "outputs": [
    {
     "data": {
      "text/plain": [
       "(26, 29855)"
      ]
     },
     "execution_count": 15,
     "metadata": {},
     "output_type": "execute_result"
    }
   ],
   "source": [
    "seq_array.shape"
   ]
  },
  {
   "cell_type": "code",
   "execution_count": 16,
   "id": "related-strike",
   "metadata": {},
   "outputs": [],
   "source": [
    "def problem_sequence_gen(start, end, title, subject, target_length):\n",
    "    ''' \n",
    "    Blast on some CoronaSPAdes assemblies generates anomalous outputs\n",
    "    where hsp.end-hsp.start != len(sequence)\n",
    "        Either:\n",
    "        1) start wrong\n",
    "        2) end wrong\n",
    "        3) actual sequence not fully used by blast? (where sequence too long)\n",
    "        \n",
    "    Here we assume \n",
    "        i) if sequence too long, that start and end are correct ie truncate sequence end\n",
    "        ii) if sequence too short, that start and sequence length are correct\n",
    "    '''\n",
    "    #TODO: add option to select to keep full subject sequence\n",
    "    expected_len=end-(start-1)\n",
    "    expected_end=start+len(subject)-1\n",
    "    subject_len_diff=expected_len-len(subject)\n",
    "    #make independent copy of subject\n",
    "    subject_mod = ''.join(subject)\n",
    "    if subject_len_diff>0:\n",
    "        #expected length longer than actual, ie sequnce too short\n",
    "        SEQ_LONG=False\n",
    "        print(f'WARNING sequence too short by {abs(subject_len_diff)} characters, \\\n",
    "        assuming that start and sequence length are correct')\n",
    "    else:\n",
    "        SEQ_LONG=True\n",
    "        print(f'WARNING sequence too long by {abs(subject_len_diff)} characters, \\\n",
    "        truncating sequence end!')\n",
    "    row=['-'] * (start-1)\n",
    "    if SEQ_LONG:\n",
    "        trailer=['-'] * (target_length-end)\n",
    "        subject_mod=subject_mod[:len(subject_mod) - abs(subject_len_diff)]\n",
    "    else:\n",
    "        trailer=['-'] * (target_length-expected_end)\n",
    "    subject_chars=list(subject_mod)\n",
    "    row.extend(subject_chars)\n",
    "    row.extend(trailer)\n",
    "    if not(len(row)==target_length):\n",
    "        print(f'built row length: {len(row)}, target length: {target_length}, \\\n",
    "        start: {start}, end: {end}, subject length {len(subject)}, mod subject length: {len(subject_mod)}')\n",
    "    return row\n",
    "    "
   ]
  },
  {
   "cell_type": "code",
   "execution_count": 17,
   "id": "suffering-pittsburgh",
   "metadata": {},
   "outputs": [],
   "source": [
    "def create_sequence(start, end, title, subject, target_length):\n",
    "    if not((end-(start-1))==len(subject)):\n",
    "        return problem_sequence_gen(start, end, title, subject, target_length)\n",
    "    row=['-'] * (start-1)\n",
    "    assert end==start+len(subject)-1\n",
    "    trailer=['-'] * (target_length-end)\n",
    "    subject_chars=list(subject)\n",
    "    row.extend(subject_chars)\n",
    "    row.extend(trailer)\n",
    "    assert len(row)==target_length\n",
    "    return row"
   ]
  },
  {
   "cell_type": "code",
   "execution_count": 18,
   "id": "broken-characteristic",
   "metadata": {},
   "outputs": [],
   "source": [
    "seq_rows=[]\n",
    "lengths=[]\n",
    "for l in seqs:\n",
    "    #l indexes represent: start, end, title, subject\n",
    "    row=create_sequence(l[0], l[1], l[2], l[3], len(fasta_seq))\n",
    "    lengths.append(len(l[3]))\n",
    "    seq_rows.append(row)"
   ]
  },
  {
   "cell_type": "code",
   "execution_count": 19,
   "id": "fitting-stanford",
   "metadata": {},
   "outputs": [],
   "source": [
    "assert len(seq_rows) == len(seqs)"
   ]
  },
  {
   "cell_type": "code",
   "execution_count": 20,
   "id": "completed-tourism",
   "metadata": {},
   "outputs": [],
   "source": [
    "length_sorted=[x for _,x in sorted(zip(lengths,seq_rows), reverse=True)]\n",
    "titles_sorted=[x for x in length_sorted[2]]"
   ]
  },
  {
   "cell_type": "markdown",
   "id": "adolescent-substitute",
   "metadata": {},
   "source": [
    "Replace empty values in numpy arry - sorted by length of sequence, row 0 being the target sequence\n",
    "titles are stored in a separate array"
   ]
  },
  {
   "cell_type": "code",
   "execution_count": 21,
   "id": "continent-voice",
   "metadata": {},
   "outputs": [],
   "source": [
    "i=0\n",
    "for l,t in zip(length_sorted,titles_sorted):\n",
    "    seq_array[i+1]=l\n",
    "    title_array[i+1]=t\n",
    "    i+=1"
   ]
  },
  {
   "cell_type": "code",
   "execution_count": 22,
   "id": "veterinary-agency",
   "metadata": {
    "scrolled": true
   },
   "outputs": [
    {
     "data": {
      "text/plain": [
       "array(['A', 'T', 'T', ..., 'A', 'A', 'A'], dtype='<U1')"
      ]
     },
     "execution_count": 22,
     "metadata": {},
     "output_type": "execute_result"
    }
   ],
   "source": [
    "#check or target sequence looks OK\n",
    "seq_array[0]"
   ]
  },
  {
   "cell_type": "code",
   "execution_count": 23,
   "id": "permanent-opposition",
   "metadata": {},
   "outputs": [],
   "source": [
    "assert len(seq_array)== len(seqs)+1"
   ]
  },
  {
   "cell_type": "markdown",
   "id": "sweet-organic",
   "metadata": {},
   "source": [
    "### Check against target\n",
    "\n",
    "The target sequence (here the RaTG13 fasta accession MN996532.2) is in row zero of seq_array as per above. The other rows are each of the Blast hits.\n"
   ]
  },
  {
   "cell_type": "code",
   "execution_count": 24,
   "id": "broke-reproduction",
   "metadata": {},
   "outputs": [],
   "source": [
    "#keep all but target in row 0\n",
    "nn_only = seq_array[1:]\n",
    "target=seq_array[0]\n",
    "equal_checks=np.empty([nn_only.shape[0], nn_only.shape[1]])\n",
    "for i in range(np.shape(nn_only)[0]):\n",
    "    #get row\n",
    "    seq_cmp=nn_only[i]\n",
    "    equal_check = seq_cmp == target\n",
    "    equal_check = equal_check.astype(int)\n",
    "    mask = np.isin(seq_cmp, ['-'])\n",
    "    #set empty (true) to be 2 temporarily\n",
    "    equal_check[mask]=2\n",
    "    equal_checks[i]=equal_check"
   ]
  },
  {
   "cell_type": "markdown",
   "id": "deluxe-clark",
   "metadata": {},
   "source": [
    "Swap 2 ('-' ie empty) to be 0 - makes more sense as a zero"
   ]
  },
  {
   "cell_type": "code",
   "execution_count": 25,
   "id": "combined-translator",
   "metadata": {},
   "outputs": [],
   "source": [
    "equal_checks[equal_checks == 0] = 3\n",
    "equal_checks[equal_checks == 2] = 0\n",
    "equal_checks[equal_checks == 3] = 2\n",
    "\n",
    "assert (np.count_nonzero(equal_checks == 3))==0"
   ]
  },
  {
   "cell_type": "code",
   "execution_count": 26,
   "id": "frank-botswana",
   "metadata": {},
   "outputs": [],
   "source": [
    "def plot_blocked_seq(stack_arr, name='sequences_blocked.png', cmap='CMRmap_r'):\n",
    "    print(f'{METHOD}, {ASM_FILE}, stack_arr: {stack_arr.shape}')\n",
    "    fig= plt.figure(figsize=(20,6))\n",
    "    plt.imshow(stack_arr, cmap=plt.get_cmap(cmap))\n",
    "    ax = plt.gca()\n",
    "    ax.axes.yaxis.set_visible(False)\n",
    "    plt.savefig(name, dpi=600)\n",
    "    plt.show()"
   ]
  },
  {
   "cell_type": "markdown",
   "id": "structural-economics",
   "metadata": {},
   "source": [
    "### Merge into single sequence\n",
    "\n",
    "Here we create a single consensus fasta file based on a combination of the Blast hits.\n",
    "\n",
    "Method:\n",
    "\n",
    "Where only single seuence has coverage - use that\n",
    "\n",
    "Where 2 or more sequences cover same NN - if NN same, use that, if NN's differ and more of 1 then other use that, if differ and equal number, then use the one that matches the target"
   ]
  },
  {
   "cell_type": "code",
   "execution_count": 27,
   "id": "crucial-tours",
   "metadata": {},
   "outputs": [],
   "source": [
    "def choose_most_freq(frequency, e_idx_val, unique, asm_build):\n",
    "    '''if not equal fequency then get the most common\n",
    "    remove empty character (ie e_idx_val) from comparison'''\n",
    "    temp_freq=frequency.copy().tolist()\n",
    "    del temp_freq[e_idx_val] \n",
    "    temp_freq=temp_freq\n",
    "    max_freq = np.where(temp_freq == np.amax(temp_freq)) \n",
    "    asm_build.append(unique[max_freq][0])  \n",
    "    return asm_build"
   ]
  },
  {
   "cell_type": "code",
   "execution_count": 28,
   "id": "pleased-script",
   "metadata": {},
   "outputs": [],
   "source": [
    "nn_only = seq_array[1:]\n",
    "asm_build=[]\n",
    "col_idx=0\n",
    "for column in nn_only.T:\n",
    "    unique, frequency = np.unique(column,  \n",
    "                              return_counts = True) \n",
    "    if len(unique)==1:\n",
    "        assert frequency==nn_only.shape[0]\n",
    "        asm_build.append(unique[0])\n",
    "    elif len(unique)==2:\n",
    "        if '-' in unique:\n",
    "            #highly unlikely this wont be case for this dataset\n",
    "            not_empty = [x for x in unique if x != '-']\n",
    "            asm_build.append(not_empty[0])\n",
    "        else:\n",
    "            if frequency[0]==frequency[1]:\n",
    "                #give benefit of doubt\n",
    "                if unique[0]==seq_array[0][col_idx]:\n",
    "                    asm_build.append(unique[0])\n",
    "                else:\n",
    "                    asm_build.append(unique[1])\n",
    "            else:\n",
    "                #if not equal fequency then get the most common\n",
    "                max_freq = numpy.where(frequency == numpy.amax(frequency)) \n",
    "                asm_build.append(unique[max_freq])\n",
    "    elif len(unique)==3:\n",
    "        if '-' in unique:\n",
    "            not_empty = [x for x in unique if x != '-']\n",
    "            temp_idxs=list(range(3))\n",
    "            \n",
    "            empty_idx = np.where(unique == '-')\n",
    "            e_idx_val=empty_idx[0][0]\n",
    "            del temp_idxs[e_idx_val] \n",
    "            \n",
    "            if frequency[temp_idxs[0]]==frequency[temp_idxs[1]]:\n",
    "                #give benefit of doubt\n",
    "                if unique[temp_idxs[0]]==seq_array[0][col_idx]:\n",
    "                    asm_build.append(unique[temp_idxs[0]])\n",
    "                else:\n",
    "                    asm_build.append(unique[temp_idxs[1]])\n",
    "            else:\n",
    "                asm_build=choose_most_freq(frequency, e_idx_val, unique, asm_build)\n",
    "        else:\n",
    "            max_freq = numpy.where(frequency == numpy.amax(frequency)) \n",
    "            asm_build.append(unique[max_freq])\n",
    "    elif len(unique)>3:\n",
    "        if '-' in unique:\n",
    "            not_empty = [x for x in unique if x != '-']\n",
    "            temp_idxs=list(range(len(unique)))\n",
    "            \n",
    "            empty_idx = np.where(unique == '-')\n",
    "            e_idx_val=empty_idx[0][0]\n",
    "\n",
    "            asm_build=choose_most_freq(frequency, e_idx_val, unique, asm_build)\n",
    "        else:\n",
    "            max_freq = numpy.where(frequency == numpy.amax(frequency)) \n",
    "            asm_build.append(unique[max_freq])\n",
    "    col_idx+=1"
   ]
  },
  {
   "cell_type": "code",
   "execution_count": 29,
   "id": "broadband-captain",
   "metadata": {},
   "outputs": [],
   "source": [
    "assert len(asm_build)==len(fasta_seq)\n",
    "assert all(isinstance(x, str) for x in asm_build)"
   ]
  },
  {
   "cell_type": "markdown",
   "id": "theoretical-anger",
   "metadata": {},
   "source": [
    "### Plot consensus sequence"
   ]
  },
  {
   "cell_type": "code",
   "execution_count": 30,
   "id": "mediterranean-latvia",
   "metadata": {},
   "outputs": [],
   "source": [
    "def ord_convert(x):\n",
    "    '''convert each character in array to its integer representation'''\n",
    "    return ord(x)\n",
    "ord_v = np.vectorize(ord_convert)"
   ]
  },
  {
   "cell_type": "markdown",
   "id": "adopted-philosophy",
   "metadata": {},
   "source": [
    "Convert to integers to plot"
   ]
  },
  {
   "cell_type": "code",
   "execution_count": 31,
   "id": "stylish-steps",
   "metadata": {},
   "outputs": [
    {
     "data": {
      "text/plain": [
       "(array([1412.,    0., 8513.,    0.,    0., 5277.,    0., 9081.,    0.,\n",
       "        5572.]),\n",
       " array([0. , 0.4, 0.8, 1.2, 1.6, 2. , 2.4, 2.8, 3.2, 3.6, 4. ]),\n",
       " <BarContainer object of 10 artists>)"
      ]
     },
     "execution_count": 31,
     "metadata": {},
     "output_type": "execute_result"
    },
    {
     "data": {
      "image/png": "[encoded data removed]",
      "text/plain": [
       "<Figure size 432x288 with 1 Axes>"
      ]
     },
     "metadata": {
      "needs_background": "light"
     },
     "output_type": "display_data"
    }
   ],
   "source": [
    "plt.hist(asm_build)"
   ]
  },
  {
   "cell_type": "code",
   "execution_count": 32,
   "id": "removable-district",
   "metadata": {},
   "outputs": [],
   "source": [
    "data_ord=ord_v(asm_build)\n",
    "#replace '-' (empty), with 0 - easier to manage colourmaps\n",
    "data_ord[data_ord == 45] = 0"
   ]
  },
  {
   "cell_type": "code",
   "execution_count": 33,
   "id": "optimum-ukraine",
   "metadata": {},
   "outputs": [],
   "source": [
    "#convert to 2D so can plot\n",
    "stacked=np.stack([data_ord, data_ord], axis=0)"
   ]
  },
  {
   "cell_type": "markdown",
   "id": "upper-integer",
   "metadata": {},
   "source": [
    "- Dark blue: Continuous coverage by GTCA nucleotides\n",
    "- Red: Poor coverage, many empty reads\n",
    "- Yellow: Very poor coverage\n",
    "- White: No reads"
   ]
  },
  {
   "cell_type": "code",
   "execution_count": 34,
   "id": "union-mortality",
   "metadata": {
    "scrolled": true
   },
   "outputs": [
    {
     "name": "stdout",
     "output_type": "stream",
     "text": [
      "Megahit default, k29.contigs.fa, stack_arr: (1000, 29855)\n"
     ]
    },
    {
     "data": {
      "image/png": "[encoded data removed]",
      "text/plain": [
       "<Figure size 1440x432 with 1 Axes>"
      ]
     },
     "metadata": {
      "needs_background": "light"
     },
     "output_type": "display_data"
    }
   ],
   "source": [
    "stacked_repeated = np.repeat(stacked, repeats=500, axis=0)\n",
    "plot_blocked_seq(stacked_repeated, name=OUT_PATH+f'asm_stitched_{UID}.png')"
   ]
  },
  {
   "cell_type": "code",
   "execution_count": 35,
   "id": "pharmaceutical-monte",
   "metadata": {},
   "outputs": [],
   "source": [
    "target=seq_array[0]\n",
    "\n",
    "asm_check = asm_build == target\n",
    "asm_check = asm_check.astype(int)\n",
    "mask = np.isin(asm_build, ['-'])\n",
    "#set empty (true) to be 2 temporarily\n",
    "asm_check[mask]=2\n",
    "asm_check[asm_check == 0] = 3\n",
    "asm_check[asm_check == 2] = 0\n",
    "asm_check[asm_check == 3] = 2\n",
    "#0: empty; 1: NN match, 2: NN incorrect (based on consensus id more than 1)"
   ]
  },
  {
   "cell_type": "code",
   "execution_count": 36,
   "id": "important-visibility",
   "metadata": {},
   "outputs": [
    {
     "name": "stdout",
     "output_type": "stream",
     "text": [
      "unique: [0 1 2], frequency: [ 1412 28431    12]\n"
     ]
    }
   ],
   "source": [
    "unique, frequency = np.unique(asm_check,  \n",
    "                              return_counts = True) \n",
    "print(f'unique: {unique}, frequency: {frequency}')"
   ]
  },
  {
   "cell_type": "code",
   "execution_count": 37,
   "id": "industrial-heavy",
   "metadata": {},
   "outputs": [],
   "source": [
    "def export_fasta(out_file_path, sequence, id_text, description):\n",
    "    if isinstance(sequence, list):\n",
    "        sequence = ''.join(sequence)\n",
    "    seq=Seq(sequence)\n",
    "    record=SeqRecord(seq, id=id_text, description=description)\n",
    "    with open(out_file_path, \"w\") as output_handle:\n",
    "        SeqIO.write(record, output_handle, \"fasta\")"
   ]
  },
  {
   "cell_type": "code",
   "execution_count": 38,
   "id": "patent-spell",
   "metadata": {},
   "outputs": [],
   "source": [
    "export_fasta(OUT_PATH+f'{COV_NAME}_{ASM_CODE}_{UID}.fa', asm_build, f'{COV_NAME}_{ASM_CODE}_{UID}', METHOD)"
   ]
  },
  {
   "cell_type": "markdown",
   "id": "historical-moment",
   "metadata": {},
   "source": [
    "### Stats"
   ]
  },
  {
   "cell_type": "code",
   "execution_count": 39,
   "id": "hidden-subscriber",
   "metadata": {},
   "outputs": [],
   "source": [
    "correct_seq=f'Percentage of full sequence with correct sequence coverage: {(frequency[1]/len(fasta_seq))*100}%'"
   ]
  },
  {
   "cell_type": "markdown",
   "id": "insured-house",
   "metadata": {},
   "source": [
    "greater than 1 where segments overlp"
   ]
  },
  {
   "cell_type": "code",
   "execution_count": 40,
   "id": "generous-commission",
   "metadata": {},
   "outputs": [],
   "source": [
    "correct_overlap=f'Percentage of full sequence with correct overlapping sequences: {(frequency[2]/len(fasta_seq))*100}%'"
   ]
  },
  {
   "cell_type": "code",
   "execution_count": 41,
   "id": "stable-gnome",
   "metadata": {},
   "outputs": [],
   "source": [
    "missing=f'Percentage missing: {(frequency[0]/len(fasta_seq))*100}%'"
   ]
  },
  {
   "cell_type": "code",
   "execution_count": 42,
   "id": "equivalent-trademark",
   "metadata": {},
   "outputs": [
    {
     "name": "stdout",
     "output_type": "stream",
     "text": [
      "Percentage of full sequence with correct sequence coverage: 95.23027968514486%\n",
      "Percentage of full sequence with correct overlapping sequences: 0.04019427231619494%\n",
      "Percentage missing: 4.7295260425389385%\n"
     ]
    }
   ],
   "source": [
    "print(correct_seq)\n",
    "print(correct_overlap)\n",
    "print(missing)"
   ]
  },
  {
   "cell_type": "code",
   "execution_count": 43,
   "id": "handy-lincoln",
   "metadata": {},
   "outputs": [],
   "source": [
    "with open(OUT_PATH+f\"{COV_NAME}_{ASM_CODE}_{UID}_stats.txt\", \"w\") as text_file:\n",
    "    text_file.write(correct_seq +'\\n')\n",
    "    text_file.write(correct_overlap +'\\n')\n",
    "    text_file.write(missing +'\\n')"
   ]
  },
  {
   "cell_type": "markdown",
   "id": "forward-surfing",
   "metadata": {},
   "source": [
    "### Plot Blast Hits"
   ]
  },
  {
   "cell_type": "markdown",
   "id": "faced-panama",
   "metadata": {},
   "source": [
    "Top row: consensus sequence, white- no coverage\n",
    "\n",
    "Second row: spacer\n",
    "\n",
    "Each row below show each contig from Blast"
   ]
  },
  {
   "cell_type": "code",
   "execution_count": 44,
   "id": "narrow-sponsorship",
   "metadata": {},
   "outputs": [
    {
     "data": {
      "text/plain": [
       "(25, 29855)"
      ]
     },
     "execution_count": 44,
     "metadata": {},
     "output_type": "execute_result"
    }
   ],
   "source": [
    "equal_checks.shape"
   ]
  },
  {
   "cell_type": "code",
   "execution_count": 45,
   "id": "cross-madness",
   "metadata": {},
   "outputs": [],
   "source": [
    "bin_stacked_repeated = np.repeat(stacked, repeats=250, axis=0)\n",
    "bin_stacked_repeated[bin_stacked_repeated > 0] = 1\n",
    "\n",
    "#add a gap\n",
    "bin_zero_repeated = np.repeat(stacked, repeats=250, axis=0)\n",
    "bin_zero_repeated[bin_stacked_repeated > 0] = 0\n",
    "stacked_header=np.stack([bin_stacked_repeated, bin_zero_repeated], axis=0)"
   ]
  },
  {
   "cell_type": "code",
   "execution_count": 46,
   "id": "strategic-andrew",
   "metadata": {},
   "outputs": [],
   "source": [
    "stacked_header=stacked_header.reshape((bin_stacked_repeated.shape[0]+bin_zero_repeated.shape[0], bin_zero_repeated.shape[1]))"
   ]
  },
  {
   "cell_type": "code",
   "execution_count": 47,
   "id": "likely-karaoke",
   "metadata": {},
   "outputs": [],
   "source": [
    "equal_repeated = np.repeat(equal_checks, repeats=500, axis=0)\n",
    "stack_arr=np.concatenate((stacked_header,equal_repeated), axis=0)"
   ]
  },
  {
   "cell_type": "code",
   "execution_count": 48,
   "id": "anonymous-bennett",
   "metadata": {},
   "outputs": [
    {
     "name": "stdout",
     "output_type": "stream",
     "text": [
      "Megahit default, k29.contigs.fa, stack_arr: (13500, 29855)\n"
     ]
    },
    {
     "data": {
      "image/png": "[encoded data removed]",
      "text/plain": [
       "<Figure size 1440x432 with 1 Axes>"
      ]
     },
     "metadata": {
      "needs_background": "light"
     },
     "output_type": "display_data"
    }
   ],
   "source": [
    "plot_blocked_seq(stack_arr, name=OUT_PATH+f'equal_repeated_{UID}.png', cmap='gray_r')"
   ]
  },
  {
   "cell_type": "markdown",
   "id": "empirical-distributor",
   "metadata": {},
   "source": [
    "### Misc Plotting\n",
    "\n",
    "The plot blow is experimental and was not used for any analysis. \n",
    "\n",
    "Note, different to plots above, the first row in plot here shows the target sequence not consensus sequence. "
   ]
  },
  {
   "cell_type": "code",
   "execution_count": 49,
   "id": "legal-basketball",
   "metadata": {},
   "outputs": [],
   "source": [
    "nn_unique=np.unique(seq_array)\n",
    "ord_unique=np.unique(ord_v(seq_array))\n",
    "unique_codes = dict(zip(list(range(len(ord_unique))), ord_unique))"
   ]
  },
  {
   "cell_type": "code",
   "execution_count": 50,
   "id": "renewable-advertiser",
   "metadata": {},
   "outputs": [],
   "source": [
    "def replce_npy(a, val_list, replace_with):\n",
    "    for v,r in zip(val_list, replace_with):\n",
    "        [[_el if _el == v else r for _el in _ar] for _ar in a]"
   ]
  },
  {
   "cell_type": "code",
   "execution_count": 51,
   "id": "checked-computer",
   "metadata": {},
   "outputs": [],
   "source": [
    "def get_plot_data(seq_array, unique_codes, labels):\n",
    "    data_ord=ord_v(seq_array)\n",
    "    unique, frequency = np.unique(seq_array,  \n",
    "                              return_counts = True) \n",
    "    print(f'Unique Nucleotides: {unique}, frequency: {frequency}')\n",
    "    for n,o in zip(nn_unique, ord_unique):\n",
    "        #use the unique NN code (order unknown) as loopup in the colourbar list\n",
    "        idx=np.where(labels == n.upper())\n",
    "        #key = next(key for key, value in dd.items() if value == v)\n",
    "        data_ord=np.where(data_ord==o, idx, data_ord)\n",
    "    #repeat to expand y axis \n",
    "    data_repeated = np.repeat(data_ord, repeats=500, axis=0)\n",
    "    return data_repeated"
   ]
  },
  {
   "cell_type": "code",
   "execution_count": 52,
   "id": "executive-elizabeth",
   "metadata": {},
   "outputs": [],
   "source": [
    "def plot_nn_colourbars():\n",
    "    #after https://stackoverflow.com/questions/14777066/matplotlib-discrete-colorbar\n",
    "\n",
    "    col_dict={0:\"white\",\n",
    "              1:\"blue\",\n",
    "              2:\"yellow\",\n",
    "              3:\"red\",\n",
    "              4:\"green\",\n",
    "              5:\"magenta\",\n",
    "              6:\"black\",\n",
    "              7:\"tan\",\n",
    "              8:\"darkgreen\",\n",
    "              9:\"lavender\",\n",
    "              10:\"lightcoral\",\n",
    "              11:\"aquamarine\",\n",
    "              12:\"lightcyan\",\n",
    "              13:\"orchid\",\n",
    "              14:\"coral\",\n",
    "              15:\"olive\",\n",
    "              16:\"lightblue\"\n",
    "             }\n",
    "\n",
    "    # create a colormap from our list of colors\n",
    "    cm = ListedColormap([col_dict[x] for x in col_dict.keys()])\n",
    "\n",
    "    #in order of here: https://www.genome.jp/kegg/catalog/codes1.html\n",
    "    labels = np.array([\"-\",\"A\",\"G\",\"C\",\"T\",\"U\",\"R\",\"Y\",\"N\",\"W\", \"S\",\"M\",\"K\",\"B\",\"H\",\"D\",\"V\"])\n",
    "    len_lab = len(labels)\n",
    "\n",
    "    # prepare normalizer\n",
    "    norm_bins = np.sort([*col_dict.keys()]) + 0.5\n",
    "    norm_bins = np.insert(norm_bins, 0, np.min(norm_bins) - 1.0)\n",
    "\n",
    "    norm = mpl.colors.BoundaryNorm(norm_bins, len_lab, clip=True)\n",
    "    fmt = mpl.ticker.FuncFormatter(lambda x, pos: labels[norm(x)])\n",
    "\n",
    "    data_repeated=get_plot_data(seq_array, unique_codes, labels)\n",
    "\n",
    "    #plt.matshow(data_repeated, cmap=cm, norm=norm)\n",
    "\n",
    "    fig,ax = plt.subplots(figsize=(20, 10))\n",
    "    \n",
    "    im = ax.imshow(data_repeated, cmap=cm, norm=norm)\n",
    "\n",
    "    ax.axes.yaxis.set_visible(False)\n",
    "    diff = norm_bins[1:] - norm_bins[:-1]\n",
    "    tickz = norm_bins[:-1] + diff / 2\n",
    "    cb = fig.colorbar(im, format=fmt, ticks=tickz)\n",
    "    ax.axes.yaxis.set_visible(False)\n",
    "    plt.title(f'Target: {TARGET_FILE} (top row) vs contigs using {METHOD}', fontsize=12)\n",
    "    fig.savefig(OUT_PATH+f\"colour_sequence_map_{UID}.png\")\n",
    "    plt.show()"
   ]
  },
  {
   "cell_type": "code",
   "execution_count": 53,
   "id": "challenging-hotel",
   "metadata": {},
   "outputs": [
    {
     "name": "stdout",
     "output_type": "stream",
     "text": [
      "Unique Nucleotides: ['-' 'A' 'C' 'G' 'T'], frequency: [717727  17486  10818  11456  18743]\n"
     ]
    },
    {
     "data": {
      "image/png": "[encoded data removed]",
      "text/plain": [
       "<Figure size 1440x720 with 2 Axes>"
      ]
     },
     "metadata": {
      "needs_background": "light"
     },
     "output_type": "display_data"
    }
   ],
   "source": [
    "#TODO, use bokeh for revised version so can zoom and explore\n",
    "plot_nn_colourbars()"
   ]
  },
  {
   "cell_type": "code",
   "execution_count": 54,
   "id": "married-annotation",
   "metadata": {},
   "outputs": [
    {
     "data": {
      "text/plain": [
       "(array([8922.,    0.,    0., 9579.,    0.,    0., 5847.,    0.,    0.,\n",
       "        5507.]),\n",
       " array([0. , 0.3, 0.6, 0.9, 1.2, 1.5, 1.8, 2.1, 2.4, 2.7, 3. ]),\n",
       " <BarContainer object of 10 artists>)"
      ]
     },
     "execution_count": 54,
     "metadata": {},
     "output_type": "execute_result"
    },
    {
     "data": {
      "image/png": "[encoded data removed]",
      "text/plain": [
       "<Figure size 432x288 with 1 Axes>"
      ]
     },
     "metadata": {
      "needs_background": "light"
     },
     "output_type": "display_data"
    }
   ],
   "source": [
    "#odd that plot above looks like mostly G & C - needs testing\n",
    "plt.hist(seq_array[0])"
   ]
  },
  {
   "cell_type": "markdown",
   "id": "numerous-census",
   "metadata": {},
   "source": [
    "### References"
   ]
  },
  {
   "cell_type": "markdown",
   "id": "later-webster",
   "metadata": {},
   "source": [
    "Zhou, P., Yang, XL., Wang, XG. et al., 2020a. A pneumonia outbreak associated with a new coronavirus of probable bat origin. Nature 579, 270–273 (2020). https://doi.org/10.1038/s41586-020-2012-7\n"
   ]
  },
  {
   "cell_type": "code",
   "execution_count": null,
   "id": "altered-innocent",
   "metadata": {},
   "outputs": [],
   "source": []
  }
 ],
 "metadata": {
  "kernelspec": {
   "display_name": "Python 3",
   "language": "python",
   "name": "python3"
  },
  "language_info": {
   "codemirror_mode": {
    "name": "ipython",
    "version": 3
   },
   "file_extension": ".py",
   "mimetype": "text/x-python",
   "name": "python",
   "nbconvert_exporter": "python",
   "pygments_lexer": "ipython3",
   "version": "3.6.12"
  }
 },
 "nbformat": 4,
 "nbformat_minor": 5
}
