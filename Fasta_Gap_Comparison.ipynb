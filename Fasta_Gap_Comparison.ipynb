{
 "cells": [
  {
   "cell_type": "markdown",
   "id": "affecting-banks",
   "metadata": {},
   "source": [
    "## RaTG13 de-novo assembly - plots of assembled nucleotide sequences\n",
    "\n",
    "\n",
    "Multiple preprints have questioned the validity of the metagenomic dataset upon which RaTG13 is based (Zhang, 2020; Rahalkar and Bahulikar, 2020; Singla et al., 2020; Signus, 2020). Here we undertook de-novo assembly of the metagenomic dataset uploaded by Zhou et al. (2020) to NCBI (SRA accession SRR11085797) using MEGAHIT (v.1.2.9) and CoronaSPAdes (v.3.15.0). We repeated the MEGAHIT assembly methodology of Singla et al. (2020), by utilising three settings: i) default; ii) maximum k-mer size set to 79; and iii) default settings with k-step=10 and --no-mercy option. For CoronaSPAdes, default settings were used. Each final assembly was then Blasted against the default nt dataset via NCBI. Consensus sequences from each of the assemblies are shown in Fig. 1 below. 16 contiguous sections of the 29855 nucleotide long RaTG13 sequence were not recovered during assembly of the SRA data by any of the methods used. This included 7 sequences of > 100 amino acids long, including a 48 amino acid long sequence in the NTD covering insert 3 identified by Zhou et al. (2020).\n",
    "\n",
    "On the 19/5/2021, an amplicon dataset (accession SRR11806578) was uploaded to NCBI by Zhou et al, 2020, presumably in response to findings by Zhang (2020) and Singla et al. (2020). This dataset was also Blasted and results shown below.\n",
    "\n",
    "1) [Blast2.ipynb](files/Blast2.ipynb) was run on the following assembiles\n",
    "\n",
    "- final.contigs.fa MEGAHIT reults using default settings for NCBI accession SRR11085797\n",
    "- final.contigs.fa MEGAHIT reults using max Kmer of K79 for NCBI accession SRR11085797\n",
    "- final.contigs.fa MEGAHIT reults using k-step10 and --no-mercy option for NCBI accession SRR11085797\n",
    "- gene_clusters.fasta CoronaSPAdes reults using default settings for NCBI accession SRR11085797\n",
    "- SRR11806578.fa generated using Biopython from SRR11806578.fastq, sourced from NCBI accession SRR11085797\n",
    "\n",
    "2) The results of consensus fastsa sequences generated in [Blast2.ipynb](files/Blast2.ipynb) were then used in this notebook.\n",
    "\n",
    "The first 4 files in list above are SRA's uploaded to NCBI on 13/3/2021, the last file contains amplicon data uploaded to NCBI on the 19/5/2021\n",
    "\n",
    "We agree with the findings of Zhang (2020) and Singla et al. (2020), in that RaTG13 cannot be assembled using the RaTG13 SRA dataset SRR11085797. Further, we find the full genome sequence still cannot be assembled when combined with the amplicon datsaset SRR11085797, as the first 14nt are missing from sequence matches in SRR11085797 and SRR11085797."
   ]
  },
  {
   "cell_type": "markdown",
   "id": "cordless-switzerland",
   "metadata": {},
   "source": [
    "<img src=\"figures/5_RaTG13_SL3_R1_stiched_asm_seqs_amplicon.png\">"
   ]
  },
  {
   "cell_type": "markdown",
   "id": "congressional-classroom",
   "metadata": {},
   "source": [
    "Figure 1. Consensus nucleotide sequences of accession SRR11085797 generated using assembly with Megablast and CoronaSPAdes and Blasted using NCBI Blastn against MN996532.2 (first four dark blue rows), as well as Amplicon dataset NCBI accession SRR11806578 shown in bottom row. \n",
    "\n",
    "Nucleotide sequences with significant alignments to RaTG13 (MN996532.2) are shown in dark blue. Red shows areas of poor coverages (single nt hits surrounded by empty reads, yellow shows areas of very poor coverage). Note that several regions in the amplicon dataset show poor sequence coverage.\n",
    "\n",
    "Structural subdomains of the RaTG13 genome shown at top of image."
   ]
  },
  {
   "cell_type": "code",
   "execution_count": 1,
   "id": "overhead-senior",
   "metadata": {},
   "outputs": [],
   "source": [
    "import os\n",
    "import collections\n",
    "import re\n",
    "import pathlib\n",
    "from io import StringIO\n",
    "from Bio import SeqIO\n",
    "import numpy as np\n",
    "import matplotlib as mpl\n",
    "import matplotlib.pyplot as plt\n",
    "from matplotlib.colors import ListedColormap\n",
    "from operator import itemgetter\n",
    "from itertools import groupby"
   ]
  },
  {
   "cell_type": "code",
   "execution_count": 2,
   "id": "elementary-america",
   "metadata": {},
   "outputs": [],
   "source": [
    "FASTA_PATH='../../fasta/'\n",
    "TARGET_FILE='MN996532_2_RaTG13_complete_genome.fa'\n",
    "ASM_PATH=FASTA_PATH+'asm_out/'\n",
    "FASTA_LIST=['RaTG13_SL3_R1_megahit_default.fa', 'RaTG13_SL3_R1_megahit_k79.fa',\\\n",
    "            'RaTG13_SL3_R1_megahit_kstep10_nm.fa', 'RaTG13_SL3_R1_coronaspades_default.fa', \\\n",
    "            'RaTG13_SRR11806578_SRR11806578_amplicons.fa']\n",
    "COV_NAME='RaTG13'\n",
    "ASM_CODE='SL3_R1'\n",
    "#specific to each genome, below are nt locations for major subdomain boundaries (ORF1ab etc) for RaTG13\n",
    "#leave as empty list if not required\n",
    "SUBDOMAIN_LOCATIONS=[266, 21563,22549,23311,23604,25360,25381,26208,26511,27179,28262,29521]\n",
    "OUT_PATH=ASM_PATH+'comparison_plots/'\n",
    "pathlib.Path(OUT_PATH).mkdir(exist_ok=True)"
   ]
  },
  {
   "cell_type": "code",
   "execution_count": 3,
   "id": "criminal-chain",
   "metadata": {},
   "outputs": [],
   "source": [
    "query_file = os.path.join(FASTA_PATH, TARGET_FILE)\n",
    "fasta_files = [os.path.join(ASM_PATH, x) for x in FASTA_LIST]"
   ]
  },
  {
   "cell_type": "code",
   "execution_count": 4,
   "id": "greenhouse-envelope",
   "metadata": {},
   "outputs": [],
   "source": [
    "query_target = SeqIO.read(query_file, format=\"fasta\")\n",
    "query_target_seq=query_target.seq\n",
    "\n",
    "fasta_targets = [SeqIO.read(x, format=\"fasta\") for x in fasta_files]\n",
    "assert len(fasta_targets)==len(FASTA_LIST)"
   ]
  },
  {
   "cell_type": "code",
   "execution_count": 5,
   "id": "ongoing-juice",
   "metadata": {},
   "outputs": [],
   "source": [
    "fasta_seqs=[str(x.seq) for x in fasta_targets]\n",
    "fasta_titles=[x.description for x in fasta_targets]"
   ]
  },
  {
   "cell_type": "code",
   "execution_count": 6,
   "id": "continuing-tiger",
   "metadata": {},
   "outputs": [],
   "source": [
    "for s in fasta_seqs:\n",
    "    assert len(s)==len(query_target_seq)"
   ]
  },
  {
   "cell_type": "code",
   "execution_count": 7,
   "id": "frank-botswana",
   "metadata": {},
   "outputs": [],
   "source": [
    "def plot_blocked_seq(stack_arr, name='sequences_blocked.png', cmap='CMRmap_r', title=''):\n",
    "    print(f'>>plot_blocked_seq, stack_arr: {stack_arr.shape}')\n",
    "    fig= plt.figure(figsize=(20,6))\n",
    "    plt.imshow(stack_arr, cmap=plt.get_cmap(cmap))\n",
    "    ax = plt.gca()\n",
    "    ax.axes.yaxis.set_visible(False)\n",
    "    plt.xlabel('nucleotides', fontsize=10)\n",
    "    plt.xticks(fontsize=10)\n",
    "    plt.title(f'{title}', fontsize=12)\n",
    "    plt.tight_layout()\n",
    "    plt.savefig(name, dpi=600)\n",
    "    plt.show()"
   ]
  },
  {
   "cell_type": "code",
   "execution_count": 8,
   "id": "mediterranean-latvia",
   "metadata": {},
   "outputs": [],
   "source": [
    "def ord_convert(x):\n",
    "    '''convert each character in array to its integer representation'''\n",
    "    return ord(x)\n",
    "ord_v = np.vectorize(ord_convert)"
   ]
  },
  {
   "cell_type": "code",
   "execution_count": 9,
   "id": "removable-district",
   "metadata": {},
   "outputs": [],
   "source": [
    "seq_arrays=[np.array(list(x)) for x in fasta_seqs]\n",
    "ord_arrays=[]\n",
    "for seqa in seq_arrays:\n",
    "    ta=ord_v(seqa)\n",
    "    #change '-' char value to zero for background colour\n",
    "    ta[ta == 45] = 0\n",
    "    ord_arrays.append(ta)"
   ]
  },
  {
   "cell_type": "code",
   "execution_count": 10,
   "id": "extensive-complex",
   "metadata": {},
   "outputs": [],
   "source": [
    "#add an empty array in between each for plotting\n",
    "spacer_array=np.zeros(len(query_target_seq))\n",
    "spaced_seqs=[]\n",
    "for a in ord_arrays:\n",
    "    spaced_seqs.append(a)\n",
    "    spaced_seqs.append(spacer_array)"
   ]
  },
  {
   "cell_type": "code",
   "execution_count": 11,
   "id": "operating-sherman",
   "metadata": {},
   "outputs": [],
   "source": [
    "subdomain_boundaris= SUBDOMAIN_LOCATIONS\n",
    "subdomain_array=np.zeros(len(query_target_seq))\n",
    "for b in subdomain_boundaris:\n",
    "    subdomain_array[b]= 84"
   ]
  },
  {
   "cell_type": "code",
   "execution_count": 12,
   "id": "straight-detector",
   "metadata": {},
   "outputs": [],
   "source": [
    "twod_borders=np.stack([subdomain_array, subdomain_array], axis=0)\n",
    "spacer_twod=np.stack([spacer_array, spacer_array], axis=0)\n",
    "twod_borders=np.stack([twod_borders, spacer_twod], axis=0)"
   ]
  },
  {
   "cell_type": "code",
   "execution_count": 13,
   "id": "offshore-fifty",
   "metadata": {},
   "outputs": [
    {
     "data": {
      "text/plain": [
       "(4, 29855)"
      ]
     },
     "execution_count": 13,
     "metadata": {},
     "output_type": "execute_result"
    }
   ],
   "source": [
    "twod_borders=twod_borders.reshape(4, len(query_target_seq))\n",
    "twod_borders.shape"
   ]
  },
  {
   "cell_type": "code",
   "execution_count": 14,
   "id": "personalized-daniel",
   "metadata": {},
   "outputs": [
    {
     "data": {
      "text/plain": [
       "(2000, 29855)"
      ]
     },
     "execution_count": 14,
     "metadata": {},
     "output_type": "execute_result"
    }
   ],
   "source": [
    "twod_borders_repeated = np.repeat(twod_borders, repeats=500, axis=0)\n",
    "twod_borders_repeated.shape"
   ]
  },
  {
   "cell_type": "code",
   "execution_count": 15,
   "id": "optimum-ukraine",
   "metadata": {},
   "outputs": [],
   "source": [
    "#convert to 2D so can plot\n",
    "stacked=np.stack(spaced_seqs, axis=0)"
   ]
  },
  {
   "cell_type": "code",
   "execution_count": 16,
   "id": "medium-ambassador",
   "metadata": {},
   "outputs": [
    {
     "data": {
      "text/plain": [
       "array([ 0., 65., 67., 71., 84.])"
      ]
     },
     "execution_count": 16,
     "metadata": {},
     "output_type": "execute_result"
    }
   ],
   "source": [
    "np.unique(stacked[0])"
   ]
  },
  {
   "cell_type": "code",
   "execution_count": 17,
   "id": "discrete-convergence",
   "metadata": {},
   "outputs": [
    {
     "data": {
      "text/plain": [
       "(5000, 29855)"
      ]
     },
     "execution_count": 17,
     "metadata": {},
     "output_type": "execute_result"
    }
   ],
   "source": [
    "stacked_repeated = np.repeat(stacked, repeats=500, axis=0)\n",
    "stacked_repeated.shape"
   ]
  },
  {
   "cell_type": "code",
   "execution_count": 18,
   "id": "selective-publicity",
   "metadata": {},
   "outputs": [
    {
     "data": {
      "text/plain": [
       "(7000, 29855)"
      ]
     },
     "execution_count": 18,
     "metadata": {},
     "output_type": "execute_result"
    }
   ],
   "source": [
    "twod_borders_on_stack=np.vstack((twod_borders_repeated, stacked_repeated))\n",
    "twod_borders_on_stack.shape"
   ]
  },
  {
   "cell_type": "code",
   "execution_count": 19,
   "id": "union-mortality",
   "metadata": {
    "scrolled": false
   },
   "outputs": [
    {
     "name": "stdout",
     "output_type": "stream",
     "text": [
      ">>plot_blocked_seq, stack_arr: (7000, 29855)\n"
     ]
    },
    {
     "data": {
      "image/png": "[encoded data removed]",
      "text/plain": [
       "<Figure size 1440x432 with 1 Axes>"
      ]
     },
     "metadata": {
      "needs_background": "light"
     },
     "output_type": "display_data"
    }
   ],
   "source": [
    "#if want a tile:\n",
    "#plot_title=', '.join(x for x in FASTA_LIST)\n",
    "plot_title=''\n",
    "plot_blocked_seq(twod_borders_on_stack, name=OUT_PATH+f'{len(FASTA_LIST)}_{COV_NAME}_{ASM_CODE}_stiched_asm_seqs.png', title=plot_title)"
   ]
  },
  {
   "cell_type": "markdown",
   "id": "spare-joining",
   "metadata": {},
   "source": [
    "Figure 2. (generation of Figure 1). In the figure above we can see 5 rows of nuclotide sequences. The first four rows shows consensus sequences from assembly of SRA dataset NCBI accession SRR11085797. There are multiple gaps in the dataset, and the RaTG13 sequence cannot be assembled from these alone.\n",
    "\n",
    "The last row shows consensus sequences from assembly of Amplicon dataset NCBI accession SRR11806578 which covers most gaps, however the first 14nt are still not covered, as well as multiple single to triple nucleotide locations in the spike protein."
   ]
  },
  {
   "cell_type": "code",
   "execution_count": 20,
   "id": "premier-barbados",
   "metadata": {},
   "outputs": [],
   "source": [
    "missing_nns = np.argwhere(np.all(stacked[..., :] == 0, axis=0)).tolist()"
   ]
  },
  {
   "cell_type": "code",
   "execution_count": 21,
   "id": "given-mattress",
   "metadata": {},
   "outputs": [
    {
     "data": {
      "text/plain": [
       "40"
      ]
     },
     "execution_count": 21,
     "metadata": {},
     "output_type": "execute_result"
    }
   ],
   "source": [
    "len(missing_nns)"
   ]
  },
  {
   "cell_type": "code",
   "execution_count": 22,
   "id": "peripheral-procurement",
   "metadata": {},
   "outputs": [],
   "source": [
    "missing_nns = [item for sublist in missing_nns for item in sublist]"
   ]
  },
  {
   "cell_type": "code",
   "execution_count": 23,
   "id": "insured-baltimore",
   "metadata": {},
   "outputs": [],
   "source": [
    "#S protein location specific to RaTG13\n",
    "spike_seq_missing = [i for i in missing_nns if int(i) >= 21563 and int(i)<=25384 ]"
   ]
  },
  {
   "cell_type": "code",
   "execution_count": 24,
   "id": "inclusive-surprise",
   "metadata": {},
   "outputs": [
    {
     "data": {
      "text/plain": [
       "26"
      ]
     },
     "execution_count": 24,
     "metadata": {},
     "output_type": "execute_result"
    }
   ],
   "source": [
    "len(spike_seq_missing)"
   ]
  },
  {
   "cell_type": "code",
   "execution_count": 25,
   "id": "fallen-carry",
   "metadata": {},
   "outputs": [],
   "source": [
    "def group(L):\n",
    "    '''after https://stackoverflow.com/questions/2154249/identify-groups-of-continuous-numbers-in-a-list'''''\n",
    "    first = last = L[0]\n",
    "    for n in L[1:]:\n",
    "        if n - 1 == last: # Part of the group, bump the end\n",
    "            last = n\n",
    "        else: # Not part of the group, yield current group and start a new\n",
    "            yield first, last\n",
    "            first = last = n\n",
    "    yield first, last # Yield the last group"
   ]
  },
  {
   "cell_type": "code",
   "execution_count": 26,
   "id": "associate-amateur",
   "metadata": {},
   "outputs": [
    {
     "name": "stdout",
     "output_type": "stream",
     "text": [
      "[(22326, 22326), (22333, 22333), (22369, 22370), (22374, 22374), (22378, 22378), (22384, 22384), (22386, 22386), (22389, 22389), (22394, 22394), (22396, 22396), (22399, 22400), (22402, 22402), (22405, 22405), (22407, 22407), (22411, 22411), (22414, 22416), (22418, 22418), (22420, 22421), (22423, 22423), (22425, 22425), (22427, 22427)]\n"
     ]
    }
   ],
   "source": [
    "print (list(group(spike_seq_missing)))"
   ]
  },
  {
   "cell_type": "code",
   "execution_count": 27,
   "id": "anticipated-utilization",
   "metadata": {},
   "outputs": [],
   "source": [
    "grouped_missing= list(group(missing_nns))"
   ]
  },
  {
   "cell_type": "markdown",
   "id": "active-cycle",
   "metadata": {},
   "source": [
    "The list below shows tuples of (start, end) of gaps in coverage accross all the fasta inputs"
   ]
  },
  {
   "cell_type": "code",
   "execution_count": 28,
   "id": "efficient-compact",
   "metadata": {},
   "outputs": [
    {
     "data": {
      "text/plain": [
       "[(0, 13),\n",
       " (22326, 22326),\n",
       " (22333, 22333),\n",
       " (22369, 22370),\n",
       " (22374, 22374),\n",
       " (22378, 22378),\n",
       " (22384, 22384),\n",
       " (22386, 22386),\n",
       " (22389, 22389),\n",
       " (22394, 22394),\n",
       " (22396, 22396),\n",
       " (22399, 22400),\n",
       " (22402, 22402),\n",
       " (22405, 22405),\n",
       " (22407, 22407),\n",
       " (22411, 22411),\n",
       " (22414, 22416),\n",
       " (22418, 22418),\n",
       " (22420, 22421),\n",
       " (22423, 22423),\n",
       " (22425, 22425),\n",
       " (22427, 22427)]"
      ]
     },
     "execution_count": 28,
     "metadata": {},
     "output_type": "execute_result"
    }
   ],
   "source": [
    "grouped_missing"
   ]
  },
  {
   "cell_type": "code",
   "execution_count": 29,
   "id": "radio-russell",
   "metadata": {},
   "outputs": [],
   "source": [
    "deltas=[]\n",
    "for t in grouped_missing:\n",
    "    deltas.append(1+t[1]-t[0])"
   ]
  },
  {
   "cell_type": "code",
   "execution_count": 30,
   "id": "third-employee",
   "metadata": {},
   "outputs": [
    {
     "data": {
      "text/plain": [
       "(22, [14, 1, 1, 2, 1, 1, 1, 1, 1, 1, 1, 2, 1, 1, 1, 1, 3, 1, 2, 1, 1, 1])"
      ]
     },
     "execution_count": 30,
     "metadata": {},
     "output_type": "execute_result"
    }
   ],
   "source": [
    "#number of and legth of each gap (in NN)\n",
    "len(deltas),deltas"
   ]
  },
  {
   "cell_type": "code",
   "execution_count": 31,
   "id": "electric-driver",
   "metadata": {},
   "outputs": [
    {
     "data": {
      "text/plain": [
       "<BarContainer object of 22 artists>"
      ]
     },
     "execution_count": 31,
     "metadata": {},
     "output_type": "execute_result"
    },
    {
     "data": {
      "image/png": "[encoded data removed]",
      "text/plain": [
       "<Figure size 432x288 with 1 Axes>"
      ]
     },
     "metadata": {
      "needs_background": "light"
     },
     "output_type": "display_data"
    }
   ],
   "source": [
    "plt.bar(list(range(len(deltas))), deltas)"
   ]
  },
  {
   "cell_type": "code",
   "execution_count": 32,
   "id": "automated-profile",
   "metadata": {},
   "outputs": [],
   "source": [
    "pct_missing = (len(missing_nns)/len(query_target_seq))%100"
   ]
  },
  {
   "cell_type": "code",
   "execution_count": 33,
   "id": "overhead-cruise",
   "metadata": {},
   "outputs": [
    {
     "name": "stdout",
     "output_type": "stream",
     "text": [
      "0.001339809077206498 from any assemby method\n"
     ]
    }
   ],
   "source": [
    "print(f'{pct_missing} from any assemby method')"
   ]
  },
  {
   "cell_type": "markdown",
   "id": "dated-retro",
   "metadata": {},
   "source": [
    "### Summary"
   ]
  },
  {
   "cell_type": "markdown",
   "id": "automatic-black",
   "metadata": {},
   "source": [
    "We can see there is no coverage of the first 14nt of RaTG13 from either of SRR11085797 or SRR11806578 as well as 21 single to triple nn locations in the spike protein. As such, RaTG13 could not have been assembled from the sequences provided by Zhou et al. (2020)."
   ]
  },
  {
   "cell_type": "markdown",
   "id": "material-giant",
   "metadata": {},
   "source": [
    "### References"
   ]
  },
  {
   "cell_type": "markdown",
   "id": "european-pricing",
   "metadata": {},
   "source": [
    "Rahalkar, M.; Bahulikar, R. The Anomalous Nature of the Fecal Swab Data, Receptor Binding Domain and Other Questions in RaTG13 Genome . https://www.preprints.org/manuscript/202008.0205/v3 doi: 10.20944/preprints202008.0205.v3\n",
    "\n",
    "Signus, J. Anomalous datasets reveal metagenomic fabrication pipeline that further questions the legitimacy of RaTG13 genome and the associated Nature paper. Preprint. https://vixra.org/abs/2010.0164\n",
    "\n",
    "Singla, M., Ahmad, S., Gupta, C., Sethi, T. De-novo Assembly of RaTG13 Genome Reveals Inconsistencies Further Obscuring SARS-CoV-2 Origins. https://www.preprints.org/manuscript/202008.0595/v1 doi: 10.20944/preprints202008.0595.v1\n",
    "\n",
    "Zhang, D. 2020. Anomalies in BatCoV/RaTG13 sequencing and provenance. Zenodo. http://doi.org/10.5281/zenodo.4064067 \n",
    "\n",
    "Zhou, P., Yang, XL., Wang, XG. et al., 2020. A pneumonia outbreak associated with a new coronavirus of probable bat origin. Nature 579, 270–273 (2020). https://doi.org/10.1038/s41586-020-2012-7"
   ]
  },
  {
   "cell_type": "code",
   "execution_count": null,
   "id": "native-formula",
   "metadata": {},
   "outputs": [],
   "source": []
  }
 ],
 "metadata": {
  "kernelspec": {
   "display_name": "Python 3",
   "language": "python",
   "name": "python3"
  },
  "language_info": {
   "codemirror_mode": {
    "name": "ipython",
    "version": 3
   },
   "file_extension": ".py",
   "mimetype": "text/x-python",
   "name": "python",
   "nbconvert_exporter": "python",
   "pygments_lexer": "ipython3",
   "version": "3.6.12"
  }
 },
 "nbformat": 4,
 "nbformat_minor": 5
}
