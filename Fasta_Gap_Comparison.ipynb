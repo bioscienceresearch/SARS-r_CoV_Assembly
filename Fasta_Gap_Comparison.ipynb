{
 "cells": [
  {
   "cell_type": "markdown",
   "id": "affecting-banks",
   "metadata": {},
   "source": [
    "## Plot fasta nucleotide sequences\n",
    "\n",
    "Plots multiple fasta sequences (need to be same length and cover the same geonome) so that they can be compared. Gaps in coverage common to all are calculated."
   ]
  },
  {
   "cell_type": "code",
   "execution_count": 7,
   "id": "overhead-senior",
   "metadata": {},
   "outputs": [],
   "source": [
    "import os\n",
    "import collections\n",
    "import re\n",
    "import pathlib\n",
    "from io import StringIO\n",
    "from Bio import SeqIO\n",
    "import numpy as np\n",
    "import matplotlib as mpl\n",
    "import matplotlib.pyplot as plt\n",
    "from matplotlib.colors import ListedColormap\n",
    "from operator import itemgetter\n",
    "from itertools import groupby"
   ]
  },
  {
   "cell_type": "code",
   "execution_count": 8,
   "id": "elementary-america",
   "metadata": {},
   "outputs": [],
   "source": [
    "FASTA_PATH='../../fasta/'\n",
    "TARGET_FILE='MN996532_2_RaTG13_complete_genome.fa'\n",
    "ASM_PATH=FASTA_PATH+'asm_out/'\n",
    "FASTA_LIST=['RaTG13_SL3_R1_megahit_default.fa', 'RaTG13_SL3_R1_megahit_k79.fa',\\\n",
    "            'RaTG13_SL3_R1_megahit_kstep10_nm.fa', 'RaTG13_SL3_R1_coronaspades_default.fa']\n",
    "COV_NAME='RaTG13'\n",
    "ASM_CODE='SL3_R1'\n",
    "OUT_PATH=ASM_PATH+'comparison_plots/'\n",
    "pathlib.Path(OUT_PATH).mkdir(exist_ok=True)"
   ]
  },
  {
   "cell_type": "code",
   "execution_count": 9,
   "id": "criminal-chain",
   "metadata": {},
   "outputs": [],
   "source": [
    "query_file = os.path.join(FASTA_PATH, TARGET_FILE)\n",
    "fasta_files = [os.path.join(ASM_PATH, x) for x in FASTA_LIST]"
   ]
  },
  {
   "cell_type": "code",
   "execution_count": 10,
   "id": "greenhouse-envelope",
   "metadata": {},
   "outputs": [],
   "source": [
    "query_target = SeqIO.read(query_file, format=\"fasta\")\n",
    "query_target_seq=query_target.seq\n",
    "\n",
    "fasta_targets = [SeqIO.read(x, format=\"fasta\") for x in fasta_files]\n",
    "assert len(fasta_targets)==len(FASTA_LIST)"
   ]
  },
  {
   "cell_type": "code",
   "execution_count": 11,
   "id": "ongoing-juice",
   "metadata": {},
   "outputs": [],
   "source": [
    "fasta_seqs=[str(x.seq) for x in fasta_targets]\n",
    "fasta_titles=[x.description for x in fasta_targets]"
   ]
  },
  {
   "cell_type": "code",
   "execution_count": 12,
   "id": "continuing-tiger",
   "metadata": {},
   "outputs": [],
   "source": [
    "for s in fasta_seqs:\n",
    "    assert len(s)==len(query_target_seq)"
   ]
  },
  {
   "cell_type": "code",
   "execution_count": 13,
   "id": "frank-botswana",
   "metadata": {},
   "outputs": [],
   "source": [
    "def plot_blocked_seq(stack_arr, name='sequences_blocked.png', cmap='CMRmap_r', title=''):\n",
    "    print(f'>>plot_blocked_seq, stack_arr: {stack_arr.shape}')\n",
    "    fig= plt.figure(figsize=(20,6))\n",
    "    plt.imshow(stack_arr, cmap=plt.get_cmap(cmap))\n",
    "    ax = plt.gca()\n",
    "    ax.axes.yaxis.set_visible(False)\n",
    "    plt.xlabel('nucleotides', fontsize=10)\n",
    "    plt.xticks(fontsize=10)\n",
    "    plt.title(f'{title}', fontsize=12)\n",
    "    plt.tight_layout()\n",
    "    plt.savefig(name, dpi=600)\n",
    "    plt.show()"
   ]
  },
  {
   "cell_type": "code",
   "execution_count": 14,
   "id": "mediterranean-latvia",
   "metadata": {},
   "outputs": [],
   "source": [
    "def ord_convert(x):\n",
    "    '''convert each character in array to its integer representation'''\n",
    "    return ord(x)\n",
    "ord_v = np.vectorize(ord_convert)"
   ]
  },
  {
   "cell_type": "code",
   "execution_count": 15,
   "id": "removable-district",
   "metadata": {},
   "outputs": [],
   "source": [
    "seq_arrays=[np.array(list(x)) for x in fasta_seqs]\n",
    "ord_arrays=[]\n",
    "for seqa in seq_arrays:\n",
    "    ta=ord_v(seqa)\n",
    "    #change '-' char value to zero for background colour\n",
    "    ta[ta == 45] = 0\n",
    "    ord_arrays.append(ta)"
   ]
  },
  {
   "cell_type": "code",
   "execution_count": 16,
   "id": "extensive-complex",
   "metadata": {},
   "outputs": [],
   "source": [
    "#add an empty array in between each for plotting\n",
    "spacer_array=np.zeros(len(query_target_seq))\n",
    "spaced_seqs=[]\n",
    "for a in ord_arrays:\n",
    "    spaced_seqs.append(a)\n",
    "    spaced_seqs.append(spacer_array)"
   ]
  },
  {
   "cell_type": "code",
   "execution_count": 17,
   "id": "operating-sherman",
   "metadata": {},
   "outputs": [],
   "source": [
    "#oprional, create subdomain markers for plotting. NN locations identified at NCBI and are specific to RaTG13\n",
    "subdomain_boundaris=[266, 21563,22549,23311,23604,25360,25381,26208,26511,27179,28262,29521]\n",
    "subdomain_array=np.zeros(len(query_target_seq))\n",
    "for b in subdomain_boundaris:\n",
    "    subdomain_array[b]= 84"
   ]
  },
  {
   "cell_type": "code",
   "execution_count": 18,
   "id": "straight-detector",
   "metadata": {},
   "outputs": [],
   "source": [
    "twod_borders=np.stack([subdomain_array, subdomain_array], axis=0)\n",
    "spacer_twod=np.stack([spacer_array, spacer_array], axis=0)\n",
    "twod_borders=np.stack([twod_borders, spacer_twod], axis=0)"
   ]
  },
  {
   "cell_type": "code",
   "execution_count": 19,
   "id": "offshore-fifty",
   "metadata": {},
   "outputs": [
    {
     "data": {
      "text/plain": [
       "(4, 29855)"
      ]
     },
     "execution_count": 19,
     "metadata": {},
     "output_type": "execute_result"
    }
   ],
   "source": [
    "twod_borders=twod_borders.reshape(4, len(query_target_seq))\n",
    "twod_borders.shape"
   ]
  },
  {
   "cell_type": "code",
   "execution_count": 20,
   "id": "personalized-daniel",
   "metadata": {},
   "outputs": [
    {
     "data": {
      "text/plain": [
       "(2000, 29855)"
      ]
     },
     "execution_count": 20,
     "metadata": {},
     "output_type": "execute_result"
    }
   ],
   "source": [
    "twod_borders_repeated = np.repeat(twod_borders, repeats=500, axis=0)\n",
    "twod_borders_repeated.shape"
   ]
  },
  {
   "cell_type": "code",
   "execution_count": 21,
   "id": "optimum-ukraine",
   "metadata": {},
   "outputs": [],
   "source": [
    "#convert to 2D so can plot\n",
    "stacked=np.stack(spaced_seqs, axis=0)"
   ]
  },
  {
   "cell_type": "code",
   "execution_count": 22,
   "id": "medium-ambassador",
   "metadata": {},
   "outputs": [
    {
     "data": {
      "text/plain": [
       "array([ 0., 65., 67., 71., 84.])"
      ]
     },
     "execution_count": 22,
     "metadata": {},
     "output_type": "execute_result"
    }
   ],
   "source": [
    "np.unique(stacked[0])"
   ]
  },
  {
   "cell_type": "code",
   "execution_count": 23,
   "id": "discrete-convergence",
   "metadata": {},
   "outputs": [
    {
     "data": {
      "text/plain": [
       "(4000, 29855)"
      ]
     },
     "execution_count": 23,
     "metadata": {},
     "output_type": "execute_result"
    }
   ],
   "source": [
    "stacked_repeated = np.repeat(stacked, repeats=500, axis=0)\n",
    "stacked_repeated.shape"
   ]
  },
  {
   "cell_type": "code",
   "execution_count": 24,
   "id": "selective-publicity",
   "metadata": {},
   "outputs": [
    {
     "data": {
      "text/plain": [
       "(6000, 29855)"
      ]
     },
     "execution_count": 24,
     "metadata": {},
     "output_type": "execute_result"
    }
   ],
   "source": [
    "twod_borders_on_stack=np.vstack((twod_borders_repeated, stacked_repeated))\n",
    "twod_borders_on_stack.shape"
   ]
  },
  {
   "cell_type": "code",
   "execution_count": 25,
   "id": "union-mortality",
   "metadata": {
    "scrolled": true
   },
   "outputs": [
    {
     "name": "stdout",
     "output_type": "stream",
     "text": [
      ">>plot_blocked_seq, stack_arr: (6000, 29855)\n"
     ]
    },
    {
     "data": {
      "image/png": "[encoded data removed]",
      "text/plain": [
       "<Figure size 1440x432 with 1 Axes>"
      ]
     },
     "metadata": {
      "needs_background": "light"
     },
     "output_type": "display_data"
    }
   ],
   "source": [
    "#if want a tile:\n",
    "#plot_title=', '.join(x for x in FASTA_LIST)\n",
    "plot_title=''\n",
    "plot_blocked_seq(twod_borders_on_stack, name=OUT_PATH+f'{len(FASTA_LIST)}_{COV_NAME}_{ASM_CODE}_stiched_asm_seqs.png', title=plot_title)"
   ]
  },
  {
   "cell_type": "markdown",
   "id": "banner-holiday",
   "metadata": {},
   "source": [
    "Find empty columns (0 value)"
   ]
  },
  {
   "cell_type": "code",
   "execution_count": 26,
   "id": "premier-barbados",
   "metadata": {},
   "outputs": [],
   "source": [
    "missing_nns = np.argwhere(np.all(stacked[..., :] == 0, axis=0)).tolist()"
   ]
  },
  {
   "cell_type": "code",
   "execution_count": 27,
   "id": "given-mattress",
   "metadata": {},
   "outputs": [
    {
     "data": {
      "text/plain": [
       "1303"
      ]
     },
     "execution_count": 27,
     "metadata": {},
     "output_type": "execute_result"
    }
   ],
   "source": [
    "len(missing_nns)"
   ]
  },
  {
   "cell_type": "code",
   "execution_count": 28,
   "id": "peripheral-procurement",
   "metadata": {},
   "outputs": [],
   "source": [
    "missing_nns = [item for sublist in missing_nns for item in sublist]"
   ]
  },
  {
   "cell_type": "code",
   "execution_count": 32,
   "id": "insured-baltimore",
   "metadata": {},
   "outputs": [],
   "source": [
    "#S protein location specific to RaTG13\n",
    "spike_seq_missing = [i for i in missing_nns if int(i) >= 21563 and int(i)<=25384 ]"
   ]
  },
  {
   "cell_type": "code",
   "execution_count": 33,
   "id": "inclusive-surprise",
   "metadata": {},
   "outputs": [
    {
     "data": {
      "text/plain": [
       "464"
      ]
     },
     "execution_count": 33,
     "metadata": {},
     "output_type": "execute_result"
    }
   ],
   "source": [
    "len(spike_seq_missing)"
   ]
  },
  {
   "cell_type": "code",
   "execution_count": 34,
   "id": "fallen-carry",
   "metadata": {},
   "outputs": [],
   "source": [
    "def group(L):\n",
    "    '''after https://stackoverflow.com/questions/2154249/identify-groups-of-continuous-numbers-in-a-list'''''\n",
    "    first = last = L[0]\n",
    "    for n in L[1:]:\n",
    "        if n - 1 == last: # Part of the group, bump the end\n",
    "            last = n\n",
    "        else: # Not part of the group, yield current group and start a new\n",
    "            yield first, last\n",
    "            first = last = n\n",
    "    yield first, last # Yield the last group"
   ]
  },
  {
   "cell_type": "code",
   "execution_count": 35,
   "id": "associate-amateur",
   "metadata": {},
   "outputs": [
    {
     "name": "stdout",
     "output_type": "stream",
     "text": [
      "[(21953, 21957), (22288, 22427), (24134, 24404), (25185, 25232)]\n"
     ]
    }
   ],
   "source": [
    "print (list(group(spike_seq_missing)))"
   ]
  },
  {
   "cell_type": "code",
   "execution_count": 36,
   "id": "anticipated-utilization",
   "metadata": {},
   "outputs": [],
   "source": [
    "grouped_missing= list(group(missing_nns))"
   ]
  },
  {
   "cell_type": "markdown",
   "id": "active-cycle",
   "metadata": {},
   "source": [
    "The list below shows tuples of (start, end) of gaps in coverage accross all the fasta inputs"
   ]
  },
  {
   "cell_type": "code",
   "execution_count": 37,
   "id": "efficient-compact",
   "metadata": {},
   "outputs": [
    {
     "data": {
      "text/plain": [
       "[(0, 13),\n",
       " (1045, 1073),\n",
       " (1488, 1536),\n",
       " (3445, 3495),\n",
       " (8313, 8419),\n",
       " (9600, 9706),\n",
       " (10875, 11091),\n",
       " (13196, 13307),\n",
       " (18653, 18664),\n",
       " (19253, 19375),\n",
       " (21265, 21277),\n",
       " (21953, 21957),\n",
       " (22288, 22427),\n",
       " (24134, 24404),\n",
       " (25185, 25232),\n",
       " (29850, 29854)]"
      ]
     },
     "execution_count": 37,
     "metadata": {},
     "output_type": "execute_result"
    }
   ],
   "source": [
    "grouped_missing"
   ]
  },
  {
   "cell_type": "code",
   "execution_count": 38,
   "id": "radio-russell",
   "metadata": {},
   "outputs": [],
   "source": [
    "deltas=[]\n",
    "for t in grouped_missing:\n",
    "    deltas.append(t[1]-t[0])"
   ]
  },
  {
   "cell_type": "code",
   "execution_count": 39,
   "id": "third-employee",
   "metadata": {},
   "outputs": [
    {
     "data": {
      "text/plain": [
       "(16, [13, 28, 48, 50, 106, 106, 216, 111, 11, 122, 12, 4, 139, 270, 47, 4])"
      ]
     },
     "execution_count": 39,
     "metadata": {},
     "output_type": "execute_result"
    }
   ],
   "source": [
    "#number of and legth of each gap (in NN)\n",
    "len(deltas),deltas"
   ]
  },
  {
   "cell_type": "code",
   "execution_count": 40,
   "id": "electric-driver",
   "metadata": {},
   "outputs": [
    {
     "data": {
      "text/plain": [
       "<BarContainer object of 16 artists>"
      ]
     },
     "execution_count": 40,
     "metadata": {},
     "output_type": "execute_result"
    },
    {
     "data": {
      "image/png": "[encoded data removed]",
      "text/plain": [
       "<Figure size 432x288 with 1 Axes>"
      ]
     },
     "metadata": {
      "needs_background": "light"
     },
     "output_type": "display_data"
    }
   ],
   "source": [
    "plt.bar(list(range(len(deltas))), deltas)"
   ]
  },
  {
   "cell_type": "code",
   "execution_count": 41,
   "id": "automated-profile",
   "metadata": {},
   "outputs": [],
   "source": [
    "pct_missing = (len(missing_nns)/len(query_target_seq))%100"
   ]
  },
  {
   "cell_type": "code",
   "execution_count": 42,
   "id": "overhead-cruise",
   "metadata": {},
   "outputs": [
    {
     "name": "stdout",
     "output_type": "stream",
     "text": [
      "0.043644280690001674 from any assemby method\n"
     ]
    }
   ],
   "source": [
    "print(f'{pct_missing} from any assemby method')"
   ]
  },
  {
   "cell_type": "code",
   "execution_count": null,
   "id": "future-savings",
   "metadata": {},
   "outputs": [],
   "source": []
  }
 ],
 "metadata": {
  "kernelspec": {
   "display_name": "Python 3",
   "language": "python",
   "name": "python3"
  },
  "language_info": {
   "codemirror_mode": {
    "name": "ipython",
    "version": 3
   },
   "file_extension": ".py",
   "mimetype": "text/x-python",
   "name": "python",
   "nbconvert_exporter": "python",
   "pygments_lexer": "ipython3",
   "version": "3.6.12"
  }
 },
 "nbformat": 4,
 "nbformat_minor": 5
}
